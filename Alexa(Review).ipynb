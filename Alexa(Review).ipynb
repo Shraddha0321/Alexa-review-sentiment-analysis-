{
  "nbformat": 4,
  "nbformat_minor": 0,
  "metadata": {
    "colab": {
      "name": "Alexa(Review).ipynb",
      "provenance": [],
      "collapsed_sections": []
    },
    "kernelspec": {
      "name": "python3",
      "display_name": "Python 3"
    },
    "language_info": {
      "name": "python"
    }
  },
  "cells": [
    {
      "cell_type": "code",
      "metadata": {
        "id": "5szX-w8KnnzS"
      },
      "source": [
        "import pandas as pd \n",
        "import matplotlib.pyplot as plt \n",
        "from nltk.tokenize import word_tokenize \n",
        "from nltk.corpus import stopwords \n",
        "from wordcloud import WordCloud,STOPWORDS\n",
        "from nltk.stem import WordNetLemmatizer \n",
        "from sklearn.feature_extraction.text import CountVectorizer \n",
        "from sklearn.feature_extraction.text import TfidfVectorizer"
      ],
      "execution_count": 1,
      "outputs": []
    },
    {
      "cell_type": "code",
      "metadata": {
        "colab": {
          "base_uri": "https://localhost:8080/",
          "height": 204
        },
        "id": "yvpwyOz4nof0",
        "outputId": "b62488ac-bcfa-4c27-9419-53c9a2c274ac"
      },
      "source": [
        "df = pd.read_csv(\"/content/sample_data/alexa_reviews.tsv\",sep=\"\\t\")  #sep mean separator =\\t means tab  \n",
        "df.head()"
      ],
      "execution_count": 2,
      "outputs": [
        {
          "output_type": "execute_result",
          "data": {
            "text/html": [
              "<div>\n",
              "<style scoped>\n",
              "    .dataframe tbody tr th:only-of-type {\n",
              "        vertical-align: middle;\n",
              "    }\n",
              "\n",
              "    .dataframe tbody tr th {\n",
              "        vertical-align: top;\n",
              "    }\n",
              "\n",
              "    .dataframe thead th {\n",
              "        text-align: right;\n",
              "    }\n",
              "</style>\n",
              "<table border=\"1\" class=\"dataframe\">\n",
              "  <thead>\n",
              "    <tr style=\"text-align: right;\">\n",
              "      <th></th>\n",
              "      <th>Unnamed: 0</th>\n",
              "      <th>verified_reviews</th>\n",
              "      <th>feedback</th>\n",
              "    </tr>\n",
              "  </thead>\n",
              "  <tbody>\n",
              "    <tr>\n",
              "      <th>0</th>\n",
              "      <td>0</td>\n",
              "      <td>Love my Echo!</td>\n",
              "      <td>1</td>\n",
              "    </tr>\n",
              "    <tr>\n",
              "      <th>1</th>\n",
              "      <td>1</td>\n",
              "      <td>Loved it!</td>\n",
              "      <td>1</td>\n",
              "    </tr>\n",
              "    <tr>\n",
              "      <th>2</th>\n",
              "      <td>2</td>\n",
              "      <td>Sometimes while playing a game, you can answer...</td>\n",
              "      <td>1</td>\n",
              "    </tr>\n",
              "    <tr>\n",
              "      <th>3</th>\n",
              "      <td>3</td>\n",
              "      <td>I have had a lot of fun with this thing. My 4 ...</td>\n",
              "      <td>1</td>\n",
              "    </tr>\n",
              "    <tr>\n",
              "      <th>4</th>\n",
              "      <td>4</td>\n",
              "      <td>Music</td>\n",
              "      <td>1</td>\n",
              "    </tr>\n",
              "  </tbody>\n",
              "</table>\n",
              "</div>"
            ],
            "text/plain": [
              "   Unnamed: 0                                   verified_reviews  feedback\n",
              "0           0                                      Love my Echo!         1\n",
              "1           1                                          Loved it!         1\n",
              "2           2  Sometimes while playing a game, you can answer...         1\n",
              "3           3  I have had a lot of fun with this thing. My 4 ...         1\n",
              "4           4                                              Music         1"
            ]
          },
          "metadata": {
            "tags": []
          },
          "execution_count": 2
        }
      ]
    },
    {
      "cell_type": "code",
      "metadata": {
        "colab": {
          "base_uri": "https://localhost:8080/"
        },
        "id": "O8VskYmunoiS",
        "outputId": "4d7c86d8-efda-4303-99bb-b8752243e23a"
      },
      "source": [
        "df.shape"
      ],
      "execution_count": 3,
      "outputs": [
        {
          "output_type": "execute_result",
          "data": {
            "text/plain": [
              "(3150, 3)"
            ]
          },
          "metadata": {
            "tags": []
          },
          "execution_count": 3
        }
      ]
    },
    {
      "cell_type": "code",
      "metadata": {
        "id": "bhpZvVbGnokp"
      },
      "source": [
        "df.drop([\"Unnamed: 0\"],axis=1,inplace=True)"
      ],
      "execution_count": 4,
      "outputs": []
    },
    {
      "cell_type": "code",
      "metadata": {
        "colab": {
          "base_uri": "https://localhost:8080/",
          "height": 204
        },
        "id": "BtMSi1jfnonL",
        "outputId": "5d7b376a-4319-4999-acec-72beab611238"
      },
      "source": [
        "df.head()"
      ],
      "execution_count": 5,
      "outputs": [
        {
          "output_type": "execute_result",
          "data": {
            "text/html": [
              "<div>\n",
              "<style scoped>\n",
              "    .dataframe tbody tr th:only-of-type {\n",
              "        vertical-align: middle;\n",
              "    }\n",
              "\n",
              "    .dataframe tbody tr th {\n",
              "        vertical-align: top;\n",
              "    }\n",
              "\n",
              "    .dataframe thead th {\n",
              "        text-align: right;\n",
              "    }\n",
              "</style>\n",
              "<table border=\"1\" class=\"dataframe\">\n",
              "  <thead>\n",
              "    <tr style=\"text-align: right;\">\n",
              "      <th></th>\n",
              "      <th>verified_reviews</th>\n",
              "      <th>feedback</th>\n",
              "    </tr>\n",
              "  </thead>\n",
              "  <tbody>\n",
              "    <tr>\n",
              "      <th>0</th>\n",
              "      <td>Love my Echo!</td>\n",
              "      <td>1</td>\n",
              "    </tr>\n",
              "    <tr>\n",
              "      <th>1</th>\n",
              "      <td>Loved it!</td>\n",
              "      <td>1</td>\n",
              "    </tr>\n",
              "    <tr>\n",
              "      <th>2</th>\n",
              "      <td>Sometimes while playing a game, you can answer...</td>\n",
              "      <td>1</td>\n",
              "    </tr>\n",
              "    <tr>\n",
              "      <th>3</th>\n",
              "      <td>I have had a lot of fun with this thing. My 4 ...</td>\n",
              "      <td>1</td>\n",
              "    </tr>\n",
              "    <tr>\n",
              "      <th>4</th>\n",
              "      <td>Music</td>\n",
              "      <td>1</td>\n",
              "    </tr>\n",
              "  </tbody>\n",
              "</table>\n",
              "</div>"
            ],
            "text/plain": [
              "                                    verified_reviews  feedback\n",
              "0                                      Love my Echo!         1\n",
              "1                                          Loved it!         1\n",
              "2  Sometimes while playing a game, you can answer...         1\n",
              "3  I have had a lot of fun with this thing. My 4 ...         1\n",
              "4                                              Music         1"
            ]
          },
          "metadata": {
            "tags": []
          },
          "execution_count": 5
        }
      ]
    },
    {
      "cell_type": "code",
      "metadata": {
        "colab": {
          "base_uri": "https://localhost:8080/"
        },
        "id": "9OjPdmD3nopx",
        "outputId": "b594c137-79c3-4e15-b129-f51791b2cbea"
      },
      "source": [
        "df.isnull().sum()"
      ],
      "execution_count": 6,
      "outputs": [
        {
          "output_type": "execute_result",
          "data": {
            "text/plain": [
              "verified_reviews    0\n",
              "feedback            0\n",
              "dtype: int64"
            ]
          },
          "metadata": {
            "tags": []
          },
          "execution_count": 6
        }
      ]
    },
    {
      "cell_type": "code",
      "metadata": {
        "colab": {
          "base_uri": "https://localhost:8080/"
        },
        "id": "Hjqqs4kjnosJ",
        "outputId": "68dd95f5-fe51-48c6-880a-1464f7531cbc"
      },
      "source": [
        "df.info()"
      ],
      "execution_count": 7,
      "outputs": [
        {
          "output_type": "stream",
          "text": [
            "<class 'pandas.core.frame.DataFrame'>\n",
            "RangeIndex: 3150 entries, 0 to 3149\n",
            "Data columns (total 2 columns):\n",
            " #   Column            Non-Null Count  Dtype \n",
            "---  ------            --------------  ----- \n",
            " 0   verified_reviews  3150 non-null   object\n",
            " 1   feedback          3150 non-null   int64 \n",
            "dtypes: int64(1), object(1)\n",
            "memory usage: 49.3+ KB\n"
          ],
          "name": "stdout"
        }
      ]
    },
    {
      "cell_type": "code",
      "metadata": {
        "colab": {
          "base_uri": "https://localhost:8080/",
          "height": 296
        },
        "id": "_JjTishrnoue",
        "outputId": "5f63229e-7628-4e02-df8b-ba1c9280e4db"
      },
      "source": [
        "df.describe()"
      ],
      "execution_count": 8,
      "outputs": [
        {
          "output_type": "execute_result",
          "data": {
            "text/html": [
              "<div>\n",
              "<style scoped>\n",
              "    .dataframe tbody tr th:only-of-type {\n",
              "        vertical-align: middle;\n",
              "    }\n",
              "\n",
              "    .dataframe tbody tr th {\n",
              "        vertical-align: top;\n",
              "    }\n",
              "\n",
              "    .dataframe thead th {\n",
              "        text-align: right;\n",
              "    }\n",
              "</style>\n",
              "<table border=\"1\" class=\"dataframe\">\n",
              "  <thead>\n",
              "    <tr style=\"text-align: right;\">\n",
              "      <th></th>\n",
              "      <th>feedback</th>\n",
              "    </tr>\n",
              "  </thead>\n",
              "  <tbody>\n",
              "    <tr>\n",
              "      <th>count</th>\n",
              "      <td>3150.000000</td>\n",
              "    </tr>\n",
              "    <tr>\n",
              "      <th>mean</th>\n",
              "      <td>0.918413</td>\n",
              "    </tr>\n",
              "    <tr>\n",
              "      <th>std</th>\n",
              "      <td>0.273778</td>\n",
              "    </tr>\n",
              "    <tr>\n",
              "      <th>min</th>\n",
              "      <td>0.000000</td>\n",
              "    </tr>\n",
              "    <tr>\n",
              "      <th>25%</th>\n",
              "      <td>1.000000</td>\n",
              "    </tr>\n",
              "    <tr>\n",
              "      <th>50%</th>\n",
              "      <td>1.000000</td>\n",
              "    </tr>\n",
              "    <tr>\n",
              "      <th>75%</th>\n",
              "      <td>1.000000</td>\n",
              "    </tr>\n",
              "    <tr>\n",
              "      <th>max</th>\n",
              "      <td>1.000000</td>\n",
              "    </tr>\n",
              "  </tbody>\n",
              "</table>\n",
              "</div>"
            ],
            "text/plain": [
              "          feedback\n",
              "count  3150.000000\n",
              "mean      0.918413\n",
              "std       0.273778\n",
              "min       0.000000\n",
              "25%       1.000000\n",
              "50%       1.000000\n",
              "75%       1.000000\n",
              "max       1.000000"
            ]
          },
          "metadata": {
            "tags": []
          },
          "execution_count": 8
        }
      ]
    },
    {
      "cell_type": "code",
      "metadata": {
        "colab": {
          "base_uri": "https://localhost:8080/",
          "height": 420
        },
        "id": "smXpqWmIoV3r",
        "outputId": "ecce9a86-95f1-4161-b435-efe3af7a115f"
      },
      "source": [
        "df['length'] = df['verified_reviews'].apply(len)\n",
        "df.groupby('length').describe().sample(10)"
      ],
      "execution_count": 9,
      "outputs": [
        {
          "output_type": "execute_result",
          "data": {
            "text/html": [
              "<div>\n",
              "<style scoped>\n",
              "    .dataframe tbody tr th:only-of-type {\n",
              "        vertical-align: middle;\n",
              "    }\n",
              "\n",
              "    .dataframe tbody tr th {\n",
              "        vertical-align: top;\n",
              "    }\n",
              "\n",
              "    .dataframe thead tr th {\n",
              "        text-align: left;\n",
              "    }\n",
              "\n",
              "    .dataframe thead tr:last-of-type th {\n",
              "        text-align: right;\n",
              "    }\n",
              "</style>\n",
              "<table border=\"1\" class=\"dataframe\">\n",
              "  <thead>\n",
              "    <tr>\n",
              "      <th></th>\n",
              "      <th colspan=\"8\" halign=\"left\">feedback</th>\n",
              "    </tr>\n",
              "    <tr>\n",
              "      <th></th>\n",
              "      <th>count</th>\n",
              "      <th>mean</th>\n",
              "      <th>std</th>\n",
              "      <th>min</th>\n",
              "      <th>25%</th>\n",
              "      <th>50%</th>\n",
              "      <th>75%</th>\n",
              "      <th>max</th>\n",
              "    </tr>\n",
              "    <tr>\n",
              "      <th>length</th>\n",
              "      <th></th>\n",
              "      <th></th>\n",
              "      <th></th>\n",
              "      <th></th>\n",
              "      <th></th>\n",
              "      <th></th>\n",
              "      <th></th>\n",
              "      <th></th>\n",
              "    </tr>\n",
              "  </thead>\n",
              "  <tbody>\n",
              "    <tr>\n",
              "      <th>19</th>\n",
              "      <td>26.0</td>\n",
              "      <td>0.961538</td>\n",
              "      <td>0.196116</td>\n",
              "      <td>0.0</td>\n",
              "      <td>1.00</td>\n",
              "      <td>1.0</td>\n",
              "      <td>1.0</td>\n",
              "      <td>1.0</td>\n",
              "    </tr>\n",
              "    <tr>\n",
              "      <th>91</th>\n",
              "      <td>13.0</td>\n",
              "      <td>0.923077</td>\n",
              "      <td>0.277350</td>\n",
              "      <td>0.0</td>\n",
              "      <td>1.00</td>\n",
              "      <td>1.0</td>\n",
              "      <td>1.0</td>\n",
              "      <td>1.0</td>\n",
              "    </tr>\n",
              "    <tr>\n",
              "      <th>467</th>\n",
              "      <td>2.0</td>\n",
              "      <td>1.000000</td>\n",
              "      <td>0.000000</td>\n",
              "      <td>1.0</td>\n",
              "      <td>1.00</td>\n",
              "      <td>1.0</td>\n",
              "      <td>1.0</td>\n",
              "      <td>1.0</td>\n",
              "    </tr>\n",
              "    <tr>\n",
              "      <th>147</th>\n",
              "      <td>7.0</td>\n",
              "      <td>0.857143</td>\n",
              "      <td>0.377964</td>\n",
              "      <td>0.0</td>\n",
              "      <td>1.00</td>\n",
              "      <td>1.0</td>\n",
              "      <td>1.0</td>\n",
              "      <td>1.0</td>\n",
              "    </tr>\n",
              "    <tr>\n",
              "      <th>192</th>\n",
              "      <td>7.0</td>\n",
              "      <td>1.000000</td>\n",
              "      <td>0.000000</td>\n",
              "      <td>1.0</td>\n",
              "      <td>1.00</td>\n",
              "      <td>1.0</td>\n",
              "      <td>1.0</td>\n",
              "      <td>1.0</td>\n",
              "    </tr>\n",
              "    <tr>\n",
              "      <th>405</th>\n",
              "      <td>2.0</td>\n",
              "      <td>1.000000</td>\n",
              "      <td>0.000000</td>\n",
              "      <td>1.0</td>\n",
              "      <td>1.00</td>\n",
              "      <td>1.0</td>\n",
              "      <td>1.0</td>\n",
              "      <td>1.0</td>\n",
              "    </tr>\n",
              "    <tr>\n",
              "      <th>690</th>\n",
              "      <td>1.0</td>\n",
              "      <td>1.000000</td>\n",
              "      <td>NaN</td>\n",
              "      <td>1.0</td>\n",
              "      <td>1.00</td>\n",
              "      <td>1.0</td>\n",
              "      <td>1.0</td>\n",
              "      <td>1.0</td>\n",
              "    </tr>\n",
              "    <tr>\n",
              "      <th>176</th>\n",
              "      <td>4.0</td>\n",
              "      <td>0.750000</td>\n",
              "      <td>0.500000</td>\n",
              "      <td>0.0</td>\n",
              "      <td>0.75</td>\n",
              "      <td>1.0</td>\n",
              "      <td>1.0</td>\n",
              "      <td>1.0</td>\n",
              "    </tr>\n",
              "    <tr>\n",
              "      <th>197</th>\n",
              "      <td>5.0</td>\n",
              "      <td>0.400000</td>\n",
              "      <td>0.547723</td>\n",
              "      <td>0.0</td>\n",
              "      <td>0.00</td>\n",
              "      <td>0.0</td>\n",
              "      <td>1.0</td>\n",
              "      <td>1.0</td>\n",
              "    </tr>\n",
              "    <tr>\n",
              "      <th>1</th>\n",
              "      <td>81.0</td>\n",
              "      <td>0.765432</td>\n",
              "      <td>0.426369</td>\n",
              "      <td>0.0</td>\n",
              "      <td>1.00</td>\n",
              "      <td>1.0</td>\n",
              "      <td>1.0</td>\n",
              "      <td>1.0</td>\n",
              "    </tr>\n",
              "  </tbody>\n",
              "</table>\n",
              "</div>"
            ],
            "text/plain": [
              "       feedback                                              \n",
              "          count      mean       std  min   25%  50%  75%  max\n",
              "length                                                       \n",
              "19         26.0  0.961538  0.196116  0.0  1.00  1.0  1.0  1.0\n",
              "91         13.0  0.923077  0.277350  0.0  1.00  1.0  1.0  1.0\n",
              "467         2.0  1.000000  0.000000  1.0  1.00  1.0  1.0  1.0\n",
              "147         7.0  0.857143  0.377964  0.0  1.00  1.0  1.0  1.0\n",
              "192         7.0  1.000000  0.000000  1.0  1.00  1.0  1.0  1.0\n",
              "405         2.0  1.000000  0.000000  1.0  1.00  1.0  1.0  1.0\n",
              "690         1.0  1.000000       NaN  1.0  1.00  1.0  1.0  1.0\n",
              "176         4.0  0.750000  0.500000  0.0  0.75  1.0  1.0  1.0\n",
              "197         5.0  0.400000  0.547723  0.0  0.00  0.0  1.0  1.0\n",
              "1          81.0  0.765432  0.426369  0.0  1.00  1.0  1.0  1.0"
            ]
          },
          "metadata": {
            "tags": []
          },
          "execution_count": 9
        }
      ]
    },
    {
      "cell_type": "code",
      "metadata": {
        "colab": {
          "base_uri": "https://localhost:8080/",
          "height": 172
        },
        "id": "f64-vzbNoV6f",
        "outputId": "a34b6253-e843-495a-97ca-25883e496530"
      },
      "source": [
        "df.groupby('feedback').describe()"
      ],
      "execution_count": 10,
      "outputs": [
        {
          "output_type": "execute_result",
          "data": {
            "text/html": [
              "<div>\n",
              "<style scoped>\n",
              "    .dataframe tbody tr th:only-of-type {\n",
              "        vertical-align: middle;\n",
              "    }\n",
              "\n",
              "    .dataframe tbody tr th {\n",
              "        vertical-align: top;\n",
              "    }\n",
              "\n",
              "    .dataframe thead tr th {\n",
              "        text-align: left;\n",
              "    }\n",
              "\n",
              "    .dataframe thead tr:last-of-type th {\n",
              "        text-align: right;\n",
              "    }\n",
              "</style>\n",
              "<table border=\"1\" class=\"dataframe\">\n",
              "  <thead>\n",
              "    <tr>\n",
              "      <th></th>\n",
              "      <th colspan=\"8\" halign=\"left\">length</th>\n",
              "    </tr>\n",
              "    <tr>\n",
              "      <th></th>\n",
              "      <th>count</th>\n",
              "      <th>mean</th>\n",
              "      <th>std</th>\n",
              "      <th>min</th>\n",
              "      <th>25%</th>\n",
              "      <th>50%</th>\n",
              "      <th>75%</th>\n",
              "      <th>max</th>\n",
              "    </tr>\n",
              "    <tr>\n",
              "      <th>feedback</th>\n",
              "      <th></th>\n",
              "      <th></th>\n",
              "      <th></th>\n",
              "      <th></th>\n",
              "      <th></th>\n",
              "      <th></th>\n",
              "      <th></th>\n",
              "      <th></th>\n",
              "    </tr>\n",
              "  </thead>\n",
              "  <tbody>\n",
              "    <tr>\n",
              "      <th>0</th>\n",
              "      <td>257.0</td>\n",
              "      <td>215.241245</td>\n",
              "      <td>236.325955</td>\n",
              "      <td>1.0</td>\n",
              "      <td>53.0</td>\n",
              "      <td>137.0</td>\n",
              "      <td>289.0</td>\n",
              "      <td>1686.0</td>\n",
              "    </tr>\n",
              "    <tr>\n",
              "      <th>1</th>\n",
              "      <td>2893.0</td>\n",
              "      <td>124.659177</td>\n",
              "      <td>174.624491</td>\n",
              "      <td>1.0</td>\n",
              "      <td>29.0</td>\n",
              "      <td>69.0</td>\n",
              "      <td>154.0</td>\n",
              "      <td>2851.0</td>\n",
              "    </tr>\n",
              "  </tbody>\n",
              "</table>\n",
              "</div>"
            ],
            "text/plain": [
              "          length                                                         \n",
              "           count        mean         std  min   25%    50%    75%     max\n",
              "feedback                                                                 \n",
              "0          257.0  215.241245  236.325955  1.0  53.0  137.0  289.0  1686.0\n",
              "1         2893.0  124.659177  174.624491  1.0  29.0   69.0  154.0  2851.0"
            ]
          },
          "metadata": {
            "tags": []
          },
          "execution_count": 10
        }
      ]
    },
    {
      "cell_type": "code",
      "metadata": {
        "colab": {
          "base_uri": "https://localhost:8080/"
        },
        "id": "hvJobdZ_EUR0",
        "outputId": "dd123b1b-b796-4bcd-89ed-87e7425e9f9b"
      },
      "source": [
        "df['feedback'].value_counts()"
      ],
      "execution_count": 11,
      "outputs": [
        {
          "output_type": "execute_result",
          "data": {
            "text/plain": [
              "1    2893\n",
              "0     257\n",
              "Name: feedback, dtype: int64"
            ]
          },
          "metadata": {
            "tags": []
          },
          "execution_count": 11
        }
      ]
    },
    {
      "cell_type": "code",
      "metadata": {
        "colab": {
          "base_uri": "https://localhost:8080/",
          "height": 281
        },
        "id": "C2xxZN6KDuM-",
        "outputId": "d083d4c7-8994-4908-a92c-7dec29d22b60"
      },
      "source": [
        "df['feedback'].value_counts().plot.bar()"
      ],
      "execution_count": 12,
      "outputs": [
        {
          "output_type": "execute_result",
          "data": {
            "text/plain": [
              "<matplotlib.axes._subplots.AxesSubplot at 0x7fd482c51f90>"
            ]
          },
          "metadata": {
            "tags": []
          },
          "execution_count": 12
        },
        {
          "output_type": "display_data",
          "data": {
            "image/png": "[encoded data removed]",
            "text/plain": [
              "<Figure size 432x288 with 1 Axes>"
            ]
          },
          "metadata": {
            "tags": [],
            "needs_background": "light"
          }
        }
      ]
    },
    {
      "cell_type": "code",
      "metadata": {
        "colab": {
          "base_uri": "https://localhost:8080/",
          "height": 360
        },
        "id": "qGuUqz1UoV9M",
        "outputId": "36f46173-af8b-4607-ad30-a05fc7f3380b"
      },
      "source": [
        "from sklearn.feature_extraction.text import CountVectorizer\n",
        "import numpy as np\n",
        "\n",
        "cv = CountVectorizer(stop_words = 'english')\n",
        "words = cv.fit_transform(df.verified_reviews)\n",
        "sum_words = words.sum(axis=0)\n",
        "\n",
        "\n",
        "words_freq = [(word, sum_words[0, idx]) for word, idx in cv.vocabulary_.items()]\n",
        "words_freq = sorted(words_freq, key = lambda x: x[1], reverse = True)\n",
        "frequency = pd.DataFrame(words_freq, columns=['word', 'freq'])\n",
        "\n",
        "plt.style.use('fivethirtyeight')\n",
        "color = plt.cm.ocean(np.linspace(0, 1, 20))\n",
        "frequency.head(20).plot(x='word', y='freq', kind='bar', figsize=(15, 6), color = color)\n",
        "plt.title(\"Most Frequently Occuring Words - Top 20\")\n",
        "plt.show()"
      ],
      "execution_count": 13,
      "outputs": [
        {
          "output_type": "display_data",
          "data": {
            "image/png": "[encoded data removed]",
            "text/plain": [
              "<Figure size 1080x432 with 1 Axes>"
            ]
          },
          "metadata": {
            "tags": []
          }
        }
      ]
    },
    {
      "cell_type": "code",
      "metadata": {
        "colab": {
          "base_uri": "https://localhost:8080/"
        },
        "id": "MWUsPGJCHYvp",
        "outputId": "ba6bcc7c-ad66-4b62-d90b-e9eda79d8071"
      },
      "source": [
        "import nltk\n",
        "#one time\n",
        "nltk.download('punkt')\n",
        "nltk.download('wordnet')\n",
        "nltk.download('stopwords')"
      ],
      "execution_count": 14,
      "outputs": [
        {
          "output_type": "stream",
          "text": [
            "[nltk_data] Downloading package punkt to /root/nltk_data...\n",
            "[nltk_data]   Package punkt is already up-to-date!\n",
            "[nltk_data] Downloading package wordnet to /root/nltk_data...\n",
            "[nltk_data]   Package wordnet is already up-to-date!\n",
            "[nltk_data] Downloading package stopwords to /root/nltk_data...\n",
            "[nltk_data]   Package stopwords is already up-to-date!\n"
          ],
          "name": "stdout"
        },
        {
          "output_type": "execute_result",
          "data": {
            "text/plain": [
              "True"
            ]
          },
          "metadata": {
            "tags": []
          },
          "execution_count": 14
        }
      ]
    },
    {
      "cell_type": "code",
      "metadata": {
        "id": "wvjcc-9NYN1Q"
      },
      "source": [
        "from nltk.tokenize import word_tokenize\n",
        "from nltk.corpus import stopwords\n",
        "from nltk.stem import WordNetLemmatizer\n",
        "from string import punctuation"
      ],
      "execution_count": 15,
      "outputs": []
    },
    {
      "cell_type": "code",
      "metadata": {
        "id": "MfsZ-dESYN4E"
      },
      "source": [
        "from wordcloud import WordCloud"
      ],
      "execution_count": 16,
      "outputs": []
    },
    {
      "cell_type": "code",
      "metadata": {
        "colab": {
          "base_uri": "https://localhost:8080/",
          "height": 323
        },
        "id": "S2tSkfN9YN68",
        "outputId": "8ce891cc-82d1-401c-b4ce-05fc60ed889b"
      },
      "source": [
        "wc=WordCloud(height=800,width=800,background_color=\"white\",min_font_size=10)\n",
        "wc.generate(\" \".join(df[df[\"feedback\"]==0][\"verified_reviews\"]))\n",
        "plt.figure(figsize=(15,5))\n",
        "plt.imshow(wc)\n",
        "plt.axis('off')\n",
        "plt.show()"
      ],
      "execution_count": 17,
      "outputs": [
        {
          "output_type": "display_data",
          "data": {
            "image/png": "[encoded data removed]",
            "text/plain": [
              "<Figure size 1080x360 with 1 Axes>"
            ]
          },
          "metadata": {
            "tags": []
          }
        }
      ]
    },
    {
      "cell_type": "code",
      "metadata": {
        "colab": {
          "base_uri": "https://localhost:8080/",
          "height": 323
        },
        "id": "HezTrQrrYN9g",
        "outputId": "220797c5-90d0-4e8b-ad71-f2b04a07b3da"
      },
      "source": [
        "wc=WordCloud(height=800,width=800,background_color=\"white\",min_font_size=10)\n",
        "wc.generate(\" \".join(df[df[\"feedback\"]==1][\"verified_reviews\"]))\n",
        "plt.figure(figsize=(15,5))\n",
        "plt.imshow(wc)\n",
        "plt.axis('off')\n",
        "plt.show()"
      ],
      "execution_count": 18,
      "outputs": [
        {
          "output_type": "display_data",
          "data": {
            "image/png": "[encoded data removed]",
            "text/plain": [
              "<Figure size 1080x360 with 1 Axes>"
            ]
          },
          "metadata": {
            "tags": []
          }
        }
      ]
    },
    {
      "cell_type": "code",
      "metadata": {
        "id": "7mScpUcHYbLS"
      },
      "source": [
        "def clean_text(text):\n",
        "  stop=stopwords.words('english')\n",
        "  punc=list(punctuation)\n",
        "  bad_token=stop+punc\n",
        "  token1=word_tokenize(text.lower())\n",
        "  token2=[t for t in token1 if t.isalpha()]\n",
        "  lemma=WordNetLemmatizer()\n",
        "  token3=[lemma.lemmatize(t) for t in token2 if t not in bad_token]\n",
        "  return \" \".join(token3)"
      ],
      "execution_count": 19,
      "outputs": []
    },
    {
      "cell_type": "code",
      "metadata": {
        "id": "dmL23J8ZYbOI"
      },
      "source": [
        "df[\"verified_reviews\"]=df[\"verified_reviews\"].apply(clean_text)"
      ],
      "execution_count": 20,
      "outputs": []
    },
    {
      "cell_type": "code",
      "metadata": {
        "colab": {
          "base_uri": "https://localhost:8080/"
        },
        "id": "ZMe2LefGYbRf",
        "outputId": "8d583327-dd7e-4f3f-d72d-dba2d12efe6a"
      },
      "source": [
        "df[\"verified_reviews\"]"
      ],
      "execution_count": 21,
      "outputs": [
        {
          "output_type": "execute_result",
          "data": {
            "text/plain": [
              "0                                               love echo\n",
              "1                                                   loved\n",
              "2       sometimes playing game answer question correct...\n",
              "3       lot fun thing yr old learns dinosaur control l...\n",
              "4                                                   music\n",
              "                              ...                        \n",
              "3145                           perfect kid adult everyone\n",
              "3146    listening music searching location checking ti...\n",
              "3147    love thing running entire home tv light thermo...\n",
              "3148    complaint sound quality great mostly use comma...\n",
              "3149                                                 good\n",
              "Name: verified_reviews, Length: 3150, dtype: object"
            ]
          },
          "metadata": {
            "tags": []
          },
          "execution_count": 21
        }
      ]
    },
    {
      "cell_type": "code",
      "metadata": {
        "id": "Y0ezrie8YnaG"
      },
      "source": [
        "x=df[\"verified_reviews\"]\n",
        "y=df[\"feedback\"]"
      ],
      "execution_count": 22,
      "outputs": []
    },
    {
      "cell_type": "code",
      "metadata": {
        "id": "yf4ufkisYndA"
      },
      "source": [
        "from sklearn.model_selection import train_test_split"
      ],
      "execution_count": 23,
      "outputs": []
    },
    {
      "cell_type": "code",
      "metadata": {
        "id": "llxOA0yXYv9r"
      },
      "source": [
        "x_train,x_test,y_train,y_test=train_test_split(x,y,random_state=0,test_size=0.2)"
      ],
      "execution_count": 24,
      "outputs": []
    },
    {
      "cell_type": "code",
      "metadata": {
        "colab": {
          "base_uri": "https://localhost:8080/"
        },
        "id": "OYnfQCyHYnim",
        "outputId": "9948df0a-5953-4ba2-ca24-174cefa00c2a"
      },
      "source": [
        "from imblearn.over_sampling import RandomOverSampler"
      ],
      "execution_count": 25,
      "outputs": [
        {
          "output_type": "stream",
          "text": [
            "/usr/local/lib/python3.7/dist-packages/sklearn/externals/six.py:31: FutureWarning: The module is deprecated in version 0.21 and will be removed in version 0.23 since we've dropped support for Python 2.7. Please rely on the official version of six (https://pypi.org/project/six/).\n",
            "  \"(https://pypi.org/project/six/).\", FutureWarning)\n",
            "/usr/local/lib/python3.7/dist-packages/sklearn/utils/deprecation.py:144: FutureWarning: The sklearn.neighbors.base module is  deprecated in version 0.22 and will be removed in version 0.24. The corresponding classes / functions should instead be imported from sklearn.neighbors. Anything that cannot be imported from sklearn.neighbors is now part of the private API.\n",
            "  warnings.warn(message, FutureWarning)\n"
          ],
          "name": "stderr"
        }
      ]
    },
    {
      "cell_type": "code",
      "metadata": {
        "id": "rjpYOImlYnml"
      },
      "source": [
        "ros=RandomOverSampler()"
      ],
      "execution_count": 26,
      "outputs": []
    },
    {
      "cell_type": "code",
      "metadata": {
        "colab": {
          "base_uri": "https://localhost:8080/",
          "height": 204
        },
        "id": "14MRkWLOYnps",
        "outputId": "eb7d1eba-9e9b-4823-9baa-7af65c2ec34f"
      },
      "source": [
        "sent_len=[]\n",
        "for sent in df[\"verified_reviews\"]:\n",
        "  sent_len.append(len(word_tokenize(sent)))\n",
        "\n",
        "df[\"sent_len\"]=sent_len\n",
        "df.head()"
      ],
      "execution_count": 27,
      "outputs": [
        {
          "output_type": "execute_result",
          "data": {
            "text/html": [
              "<div>\n",
              "<style scoped>\n",
              "    .dataframe tbody tr th:only-of-type {\n",
              "        vertical-align: middle;\n",
              "    }\n",
              "\n",
              "    .dataframe tbody tr th {\n",
              "        vertical-align: top;\n",
              "    }\n",
              "\n",
              "    .dataframe thead th {\n",
              "        text-align: right;\n",
              "    }\n",
              "</style>\n",
              "<table border=\"1\" class=\"dataframe\">\n",
              "  <thead>\n",
              "    <tr style=\"text-align: right;\">\n",
              "      <th></th>\n",
              "      <th>verified_reviews</th>\n",
              "      <th>feedback</th>\n",
              "      <th>length</th>\n",
              "      <th>sent_len</th>\n",
              "    </tr>\n",
              "  </thead>\n",
              "  <tbody>\n",
              "    <tr>\n",
              "      <th>0</th>\n",
              "      <td>love echo</td>\n",
              "      <td>1</td>\n",
              "      <td>13</td>\n",
              "      <td>2</td>\n",
              "    </tr>\n",
              "    <tr>\n",
              "      <th>1</th>\n",
              "      <td>loved</td>\n",
              "      <td>1</td>\n",
              "      <td>9</td>\n",
              "      <td>1</td>\n",
              "    </tr>\n",
              "    <tr>\n",
              "      <th>2</th>\n",
              "      <td>sometimes playing game answer question correct...</td>\n",
              "      <td>1</td>\n",
              "      <td>195</td>\n",
              "      <td>17</td>\n",
              "    </tr>\n",
              "    <tr>\n",
              "      <th>3</th>\n",
              "      <td>lot fun thing yr old learns dinosaur control l...</td>\n",
              "      <td>1</td>\n",
              "      <td>172</td>\n",
              "      <td>18</td>\n",
              "    </tr>\n",
              "    <tr>\n",
              "      <th>4</th>\n",
              "      <td>music</td>\n",
              "      <td>1</td>\n",
              "      <td>5</td>\n",
              "      <td>1</td>\n",
              "    </tr>\n",
              "  </tbody>\n",
              "</table>\n",
              "</div>"
            ],
            "text/plain": [
              "                                    verified_reviews  ...  sent_len\n",
              "0                                          love echo  ...         2\n",
              "1                                              loved  ...         1\n",
              "2  sometimes playing game answer question correct...  ...        17\n",
              "3  lot fun thing yr old learns dinosaur control l...  ...        18\n",
              "4                                              music  ...         1\n",
              "\n",
              "[5 rows x 4 columns]"
            ]
          },
          "metadata": {
            "tags": []
          },
          "execution_count": 27
        }
      ]
    },
    {
      "cell_type": "code",
      "metadata": {
        "colab": {
          "base_uri": "https://localhost:8080/"
        },
        "id": "s7Xr97vjYnsj",
        "outputId": "f56b37fc-0b03-4bec-f55b-5ad48eab6b3d"
      },
      "source": [
        "max(sent_len)"
      ],
      "execution_count": 28,
      "outputs": [
        {
          "output_type": "execute_result",
          "data": {
            "text/plain": [
              "245"
            ]
          },
          "metadata": {
            "tags": []
          },
          "execution_count": 28
        }
      ]
    },
    {
      "cell_type": "code",
      "metadata": {
        "colab": {
          "base_uri": "https://localhost:8080/"
        },
        "id": "0ptArABoYnvk",
        "outputId": "361fc346-72c6-4c70-f4dd-4bbfaa80ed95"
      },
      "source": [
        "np.quantile(sent_len,0.95)"
      ],
      "execution_count": 29,
      "outputs": [
        {
          "output_type": "execute_result",
          "data": {
            "text/plain": [
              "40.0"
            ]
          },
          "metadata": {
            "tags": []
          },
          "execution_count": 29
        }
      ]
    },
    {
      "cell_type": "code",
      "metadata": {
        "id": "dcxQfmlCYoFf"
      },
      "source": [
        "max_len=40"
      ],
      "execution_count": 30,
      "outputs": []
    },
    {
      "cell_type": "code",
      "metadata": {
        "id": "-HQzyIT1YoIX"
      },
      "source": [
        "from tensorflow.keras.preprocessing.text import Tokenizer\n",
        "from tensorflow.keras.preprocessing import sequence"
      ],
      "execution_count": 31,
      "outputs": []
    },
    {
      "cell_type": "code",
      "metadata": {
        "id": "EZUOjrGaYoLO"
      },
      "source": [
        "tok=Tokenizer(char_level=False,split=\" \")\n",
        "tok.fit_on_texts(x_train)"
      ],
      "execution_count": 32,
      "outputs": []
    },
    {
      "cell_type": "code",
      "metadata": {
        "colab": {
          "base_uri": "https://localhost:8080/"
        },
        "id": "KovSDbyZYoOU",
        "outputId": "950055fa-5237-46fb-a9f9-fcf0512bb777"
      },
      "source": [
        "tok.index_word"
      ],
      "execution_count": 33,
      "outputs": [
        {
          "output_type": "execute_result",
          "data": {
            "text/plain": [
              "{1: 'love',\n",
              " 2: 'echo',\n",
              " 3: 'great',\n",
              " 4: 'alexa',\n",
              " 5: 'work',\n",
              " 6: 'music',\n",
              " 7: 'like',\n",
              " 8: 'use',\n",
              " 9: 'sound',\n",
              " 10: 'one',\n",
              " 11: 'easy',\n",
              " 12: 'device',\n",
              " 13: 'dot',\n",
              " 14: 'speaker',\n",
              " 15: 'set',\n",
              " 16: 'good',\n",
              " 17: 'product',\n",
              " 18: 'get',\n",
              " 19: 'amazon',\n",
              " 20: 'thing',\n",
              " 21: 'time',\n",
              " 22: 'would',\n",
              " 23: 'play',\n",
              " 24: 'home',\n",
              " 25: 'show',\n",
              " 26: 'light',\n",
              " 27: 'still',\n",
              " 28: 'really',\n",
              " 29: 'bought',\n",
              " 30: 'smart',\n",
              " 31: 'new',\n",
              " 32: 'much',\n",
              " 33: 'better',\n",
              " 34: 'quality',\n",
              " 35: 'day',\n",
              " 36: 'prime',\n",
              " 37: 'also',\n",
              " 38: 'well',\n",
              " 39: 'need',\n",
              " 40: 'fun',\n",
              " 41: 'far',\n",
              " 42: 'room',\n",
              " 43: 'alarm',\n",
              " 44: 'even',\n",
              " 45: 'could',\n",
              " 46: 'got',\n",
              " 47: 'screen',\n",
              " 48: 'tv',\n",
              " 49: 'plus',\n",
              " 50: 'house',\n",
              " 51: 'everything',\n",
              " 52: 'able',\n",
              " 53: 'turn',\n",
              " 54: 'ask',\n",
              " 55: 'video',\n",
              " 56: 'feature',\n",
              " 57: 'learning',\n",
              " 58: 'hub',\n",
              " 59: 'buy',\n",
              " 60: 'know',\n",
              " 61: 'make',\n",
              " 62: 'spot',\n",
              " 63: 'little',\n",
              " 64: 'used',\n",
              " 65: 'lot',\n",
              " 66: 'using',\n",
              " 67: 'want',\n",
              " 68: 'weather',\n",
              " 69: 'voice',\n",
              " 70: 'see',\n",
              " 71: 'nice',\n",
              " 72: 'say',\n",
              " 73: 'tell',\n",
              " 74: 'price',\n",
              " 75: 'without',\n",
              " 76: 'getting',\n",
              " 77: 'clock',\n",
              " 78: 'app',\n",
              " 79: 'purchase',\n",
              " 80: 'way',\n",
              " 81: 'amazing',\n",
              " 82: 'control',\n",
              " 83: 'listen',\n",
              " 84: 'another',\n",
              " 85: 'bulb',\n",
              " 86: 'command',\n",
              " 87: 'problem',\n",
              " 88: 'question',\n",
              " 89: 'best',\n",
              " 90: 'phone',\n",
              " 91: 'song',\n",
              " 92: 'bedroom',\n",
              " 93: 'think',\n",
              " 94: 'item',\n",
              " 95: 'purchased',\n",
              " 96: 'awesome',\n",
              " 97: 'many',\n",
              " 98: 'perfect',\n",
              " 99: 'playing',\n",
              " 100: 'wish',\n",
              " 101: 'setup',\n",
              " 102: 'look',\n",
              " 103: 'family',\n",
              " 104: 'ca',\n",
              " 105: 'issue',\n",
              " 106: 'go',\n",
              " 107: 'every',\n",
              " 108: 'first',\n",
              " 109: 'connect',\n",
              " 110: 'try',\n",
              " 111: 'going',\n",
              " 112: 'two',\n",
              " 113: 'working',\n",
              " 114: 'watch',\n",
              " 115: 'call',\n",
              " 116: 'refurbished',\n",
              " 117: 'fire',\n",
              " 118: 'find',\n",
              " 119: 'small',\n",
              " 120: 'sure',\n",
              " 121: 'stick',\n",
              " 122: 'volume',\n",
              " 123: 'bluetooth',\n",
              " 124: 'help',\n",
              " 125: 'something',\n",
              " 126: 'size',\n",
              " 127: 'skill',\n",
              " 128: 'kitchen',\n",
              " 129: 'give',\n",
              " 130: 'keep',\n",
              " 131: 'expected',\n",
              " 132: 'listening',\n",
              " 133: 'happy',\n",
              " 134: 'setting',\n",
              " 135: 'pretty',\n",
              " 136: 'news',\n",
              " 137: 'google',\n",
              " 138: 'cool',\n",
              " 139: 'gift',\n",
              " 140: 'answer',\n",
              " 141: 'thought',\n",
              " 142: 'original',\n",
              " 143: 'connected',\n",
              " 144: 'fine',\n",
              " 145: 'list',\n",
              " 146: 'hear',\n",
              " 147: 'come',\n",
              " 148: 'take',\n",
              " 149: 'star',\n",
              " 150: 'wanted',\n",
              " 151: 'add',\n",
              " 152: 'yet',\n",
              " 153: 'etc',\n",
              " 154: 'recommend',\n",
              " 155: 'enough',\n",
              " 156: 'option',\n",
              " 157: 'around',\n",
              " 158: 'enjoy',\n",
              " 159: 'though',\n",
              " 160: 'never',\n",
              " 161: 'movie',\n",
              " 162: 'anything',\n",
              " 163: 'old',\n",
              " 164: 'worked',\n",
              " 165: 'part',\n",
              " 166: 'seems',\n",
              " 167: 'plug',\n",
              " 168: 'loved',\n",
              " 169: 'made',\n",
              " 170: 'absolutely',\n",
              " 171: 'wifi',\n",
              " 172: 'already',\n",
              " 173: 'kid',\n",
              " 174: 'money',\n",
              " 175: 'timer',\n",
              " 176: 'definitely',\n",
              " 177: 'information',\n",
              " 178: 'right',\n",
              " 179: 'full',\n",
              " 180: 'sometimes',\n",
              " 181: 'understand',\n",
              " 182: 'simple',\n",
              " 183: 'different',\n",
              " 184: 'update',\n",
              " 185: 'night',\n",
              " 186: 'big',\n",
              " 187: 'year',\n",
              " 188: 'fact',\n",
              " 189: 'u',\n",
              " 190: 'since',\n",
              " 191: 'disappointed',\n",
              " 192: 'wake',\n",
              " 193: 'worth',\n",
              " 194: 'morning',\n",
              " 195: 'unit',\n",
              " 196: 'apps',\n",
              " 197: 'back',\n",
              " 198: 'asking',\n",
              " 199: 'radio',\n",
              " 200: 'wife',\n",
              " 201: 'came',\n",
              " 202: 'life',\n",
              " 203: 'long',\n",
              " 204: 'second',\n",
              " 205: 'learn',\n",
              " 206: 'youtube',\n",
              " 207: 'built',\n",
              " 208: 'hue',\n",
              " 209: 'wonderful',\n",
              " 210: 'system',\n",
              " 211: 'friend',\n",
              " 212: 'camera',\n",
              " 213: 'favorite',\n",
              " 214: 'start',\n",
              " 215: 'generation',\n",
              " 216: 'access',\n",
              " 217: 'trying',\n",
              " 218: 'instruction',\n",
              " 219: 'daughter',\n",
              " 220: 'however',\n",
              " 221: 'week',\n",
              " 222: 'always',\n",
              " 223: 'reason',\n",
              " 224: 'internet',\n",
              " 225: 'read',\n",
              " 226: 'living',\n",
              " 227: 'added',\n",
              " 228: 'deal',\n",
              " 229: 'cable',\n",
              " 230: 'program',\n",
              " 231: 'fast',\n",
              " 232: 'excellent',\n",
              " 233: 'addition',\n",
              " 234: 'enjoying',\n",
              " 235: 'whole',\n",
              " 236: 'easier',\n",
              " 237: 'ring',\n",
              " 238: 'else',\n",
              " 239: 'needed',\n",
              " 240: 'people',\n",
              " 241: 'buying',\n",
              " 242: 'super',\n",
              " 243: 'user',\n",
              " 244: 'bit',\n",
              " 245: 'especially',\n",
              " 246: 'forward',\n",
              " 247: 'change',\n",
              " 248: 'useful',\n",
              " 249: 'looking',\n",
              " 250: 'minute',\n",
              " 251: 'free',\n",
              " 252: 'away',\n",
              " 253: 'glad',\n",
              " 254: 'probably',\n",
              " 255: 'display',\n",
              " 256: 'son',\n",
              " 257: 'perfectly',\n",
              " 258: 'audio',\n",
              " 259: 'may',\n",
              " 260: 'stuff',\n",
              " 261: 'pleased',\n",
              " 262: 'quite',\n",
              " 263: 'convenient',\n",
              " 264: 'said',\n",
              " 265: 'actually',\n",
              " 266: 'thank',\n",
              " 267: 'husband',\n",
              " 268: 'capability',\n",
              " 269: 'sale',\n",
              " 270: 'ability',\n",
              " 271: 'talking',\n",
              " 272: 'put',\n",
              " 273: 'asked',\n",
              " 274: 'feel',\n",
              " 275: 'install',\n",
              " 276: 'easily',\n",
              " 277: 'respond',\n",
              " 278: 'clear',\n",
              " 279: 'firestick',\n",
              " 280: 'order',\n",
              " 281: 'impressed',\n",
              " 282: 'game',\n",
              " 283: 'book',\n",
              " 284: 'station',\n",
              " 285: 'available',\n",
              " 286: 'done',\n",
              " 287: 'found',\n",
              " 288: 'sleep',\n",
              " 289: 'ease',\n",
              " 290: 'month',\n",
              " 291: 'bass',\n",
              " 292: 'gen',\n",
              " 293: 'nothing',\n",
              " 294: 'le',\n",
              " 295: 'tried',\n",
              " 296: 'hard',\n",
              " 297: 'talk',\n",
              " 298: 'tech',\n",
              " 299: 'next',\n",
              " 300: 'spotify',\n",
              " 301: 'instead',\n",
              " 302: 'reminder',\n",
              " 303: 'philip',\n",
              " 304: 'live',\n",
              " 305: 'difference',\n",
              " 306: 'support',\n",
              " 307: 'technology',\n",
              " 308: 'drop',\n",
              " 309: 'couple',\n",
              " 310: 'watching',\n",
              " 311: 'white',\n",
              " 312: 'face',\n",
              " 313: 'went',\n",
              " 314: 'assistant',\n",
              " 315: 'daily',\n",
              " 316: 'trouble',\n",
              " 317: 'adding',\n",
              " 318: 'let',\n",
              " 319: 'stop',\n",
              " 320: 'recipe',\n",
              " 321: 'highly',\n",
              " 322: 'almost',\n",
              " 323: 'overall',\n",
              " 324: 'multiple',\n",
              " 325: 'request',\n",
              " 326: 'button',\n",
              " 327: 'extra',\n",
              " 328: 'lamp',\n",
              " 329: 'computer',\n",
              " 330: 'connection',\n",
              " 331: 'exactly',\n",
              " 332: 'us',\n",
              " 333: 'blue',\n",
              " 334: 'joke',\n",
              " 335: 'lyric',\n",
              " 336: 'helpful',\n",
              " 337: 'link',\n",
              " 338: 'plugged',\n",
              " 339: 'must',\n",
              " 340: 'account',\n",
              " 341: 'surprised',\n",
              " 342: 'loud',\n",
              " 343: 'throughout',\n",
              " 344: 'regular',\n",
              " 345: 'along',\n",
              " 346: 'received',\n",
              " 347: 'complaint',\n",
              " 348: 'functionality',\n",
              " 349: 'soon',\n",
              " 350: 'bad',\n",
              " 351: 'decided',\n",
              " 352: 'hour',\n",
              " 353: 'took',\n",
              " 354: 'bose',\n",
              " 355: 'apple',\n",
              " 356: 'shopping',\n",
              " 357: 'pandora',\n",
              " 358: 'future',\n",
              " 359: 'top',\n",
              " 360: 'name',\n",
              " 361: 'group',\n",
              " 362: 'mostly',\n",
              " 363: 'household',\n",
              " 364: 'mainly',\n",
              " 365: 'hooked',\n",
              " 366: 'response',\n",
              " 367: 'paid',\n",
              " 368: 'touch',\n",
              " 369: 'handy',\n",
              " 370: 'ever',\n",
              " 371: 'figure',\n",
              " 372: 'door',\n",
              " 373: 'office',\n",
              " 374: 'several',\n",
              " 375: 'advertised',\n",
              " 376: 'huge',\n",
              " 377: 'gave',\n",
              " 378: 'piece',\n",
              " 379: 'power',\n",
              " 380: 'playlist',\n",
              " 381: 'regret',\n",
              " 382: 'netflix',\n",
              " 383: 'word',\n",
              " 384: 'additional',\n",
              " 385: 'function',\n",
              " 386: 'loving',\n",
              " 387: 'remote',\n",
              " 388: 'someone',\n",
              " 389: 'excited',\n",
              " 390: 'often',\n",
              " 391: 'cord',\n",
              " 392: 'pay',\n",
              " 393: 'liked',\n",
              " 394: 'figured',\n",
              " 395: 'color',\n",
              " 396: 'limited',\n",
              " 397: 'mom',\n",
              " 398: 'personal',\n",
              " 399: 'alone',\n",
              " 400: 'smaller',\n",
              " 401: 'thermostat',\n",
              " 402: 'quick',\n",
              " 403: 'kind',\n",
              " 404: 'security',\n",
              " 405: 'annoying',\n",
              " 406: 'value',\n",
              " 407: 'lol',\n",
              " 408: 'making',\n",
              " 409: 'service',\n",
              " 410: 'louder',\n",
              " 411: 'external',\n",
              " 412: 'started',\n",
              " 413: 'brand',\n",
              " 414: 'wait',\n",
              " 415: 'everyone',\n",
              " 416: 'fix',\n",
              " 417: 'picture',\n",
              " 418: 'return',\n",
              " 419: 'basic',\n",
              " 420: 'number',\n",
              " 421: 'fantastic',\n",
              " 422: 'half',\n",
              " 423: 'download',\n",
              " 424: 'bedside',\n",
              " 425: 'although',\n",
              " 426: 'choice',\n",
              " 427: 'review',\n",
              " 428: 'mini',\n",
              " 429: 'dislike',\n",
              " 430: 'plan',\n",
              " 431: 'range',\n",
              " 432: 'wo',\n",
              " 433: 'hoping',\n",
              " 434: 'tooth',\n",
              " 435: 'audible',\n",
              " 436: 'package',\n",
              " 437: 'chat',\n",
              " 438: 'wrong',\n",
              " 439: 'briefing',\n",
              " 440: 'friendly',\n",
              " 441: 'real',\n",
              " 442: 'flash',\n",
              " 443: 'quickly',\n",
              " 444: 'finally',\n",
              " 445: 'told',\n",
              " 446: 'supposed',\n",
              " 447: 'stand',\n",
              " 448: 'pick',\n",
              " 449: 'totally',\n",
              " 450: 'satisfied',\n",
              " 451: 'terrible',\n",
              " 452: 'least',\n",
              " 453: 'wireless',\n",
              " 454: 'process',\n",
              " 455: 'rather',\n",
              " 456: 'experience',\n",
              " 457: 'cost',\n",
              " 458: 'longer',\n",
              " 459: 'across',\n",
              " 460: 'included',\n",
              " 461: 'check',\n",
              " 462: 'nightstand',\n",
              " 463: 'seem',\n",
              " 464: 'entertainment',\n",
              " 465: 'lock',\n",
              " 466: 'battery',\n",
              " 467: 'older',\n",
              " 468: 'hook',\n",
              " 469: 'later',\n",
              " 470: 'bridge',\n",
              " 471: 'contact',\n",
              " 472: 'others',\n",
              " 473: 'responds',\n",
              " 474: 'stopped',\n",
              " 475: 'channel',\n",
              " 476: 'thanks',\n",
              " 477: 'improvement',\n",
              " 478: 'replace',\n",
              " 479: 'speak',\n",
              " 480: 'world',\n",
              " 481: 'heard',\n",
              " 482: 'except',\n",
              " 483: 'useless',\n",
              " 484: 'hearing',\n",
              " 485: 'mother',\n",
              " 486: 'difficult',\n",
              " 487: 'might',\n",
              " 488: 'seeing',\n",
              " 489: 'ordered',\n",
              " 490: 'checking',\n",
              " 491: 'three',\n",
              " 492: 'constantly',\n",
              " 493: 'responsive',\n",
              " 494: 'unless',\n",
              " 495: 'high',\n",
              " 496: 'bed',\n",
              " 497: 'connecting',\n",
              " 498: 'outside',\n",
              " 499: 'arrived',\n",
              " 500: 'save',\n",
              " 501: 'cell',\n",
              " 502: 'immediately',\n",
              " 503: 'ago',\n",
              " 504: 'outlet',\n",
              " 505: 'completely',\n",
              " 506: 'message',\n",
              " 507: 'error',\n",
              " 508: 'simply',\n",
              " 509: 'open',\n",
              " 510: 'run',\n",
              " 511: 'version',\n",
              " 512: 'via',\n",
              " 513: 'turned',\n",
              " 514: 'job',\n",
              " 515: 'routine',\n",
              " 516: 'finding',\n",
              " 517: 'third',\n",
              " 518: 'intercom',\n",
              " 519: 'potential',\n",
              " 520: 'today',\n",
              " 521: 'story',\n",
              " 522: 'allow',\n",
              " 523: 'given',\n",
              " 524: 'fan',\n",
              " 525: 'extremely',\n",
              " 526: 'parent',\n",
              " 527: 'notification',\n",
              " 528: 'toy',\n",
              " 529: 'fault',\n",
              " 530: 'alexia',\n",
              " 531: 'telling',\n",
              " 532: 'miss',\n",
              " 533: 'info',\n",
              " 534: 'running',\n",
              " 535: 'last',\n",
              " 536: 'offer',\n",
              " 537: 'microphone',\n",
              " 538: 'yes',\n",
              " 539: 'type',\n",
              " 540: 'search',\n",
              " 541: 'frustrating',\n",
              " 542: 'birthday',\n",
              " 543: 'base',\n",
              " 544: 'kasa',\n",
              " 545: 'traffic',\n",
              " 546: 'savvy',\n",
              " 547: 'compatible',\n",
              " 548: 'space',\n",
              " 549: 'box',\n",
              " 550: 'snooze',\n",
              " 551: 'idea',\n",
              " 552: 'operate',\n",
              " 553: 'middle',\n",
              " 554: 'saying',\n",
              " 555: 'returning',\n",
              " 556: 'expensive',\n",
              " 557: 'enjoyed',\n",
              " 558: 'improve',\n",
              " 559: 'selection',\n",
              " 560: 'kindle',\n",
              " 561: 'continue',\n",
              " 562: 'helped',\n",
              " 563: 'cooking',\n",
              " 564: 'design',\n",
              " 565: 'software',\n",
              " 566: 'stream',\n",
              " 567: 'ready',\n",
              " 568: 'unfortunately',\n",
              " 569: 'please',\n",
              " 570: 'follow',\n",
              " 571: 'siri',\n",
              " 572: 'podcasts',\n",
              " 573: 'expecting',\n",
              " 574: 'upgraded',\n",
              " 575: 'oh',\n",
              " 576: 'dad',\n",
              " 577: 'schedule',\n",
              " 578: 'calendar',\n",
              " 579: 'event',\n",
              " 580: 'card',\n",
              " 581: 'low',\n",
              " 582: 'played',\n",
              " 583: 'larger',\n",
              " 584: 'believe',\n",
              " 585: 'upstairs',\n",
              " 586: 'streaming',\n",
              " 587: 'tool',\n",
              " 588: 'black',\n",
              " 589: 'realize',\n",
              " 590: 'blast',\n",
              " 591: 'cheap',\n",
              " 592: 'happier',\n",
              " 593: 'missing',\n",
              " 594: 'clearly',\n",
              " 595: 'create',\n",
              " 596: 'installation',\n",
              " 597: 'fairly',\n",
              " 598: 'replacement',\n",
              " 599: 'become',\n",
              " 600: 'load',\n",
              " 601: 'intuitive',\n",
              " 602: 'large',\n",
              " 603: 'otherwise',\n",
              " 604: 'lower',\n",
              " 605: 'unplugged',\n",
              " 606: 'amazed',\n",
              " 607: 'busy',\n",
              " 608: 'decent',\n",
              " 609: 'inside',\n",
              " 610: 'considering',\n",
              " 611: 'basically',\n",
              " 612: 'anyone',\n",
              " 613: 'repeat',\n",
              " 614: 'gotten',\n",
              " 615: 'doorbell',\n",
              " 616: 'gadget',\n",
              " 617: 'condition',\n",
              " 618: 'guy',\n",
              " 619: 'learns',\n",
              " 620: 'calling',\n",
              " 621: 'father',\n",
              " 622: 'sleeping',\n",
              " 623: 'linked',\n",
              " 624: 'understands',\n",
              " 625: 'unlimited',\n",
              " 626: 'laugh',\n",
              " 627: 'side',\n",
              " 628: 'line',\n",
              " 629: 'major',\n",
              " 630: 'source',\n",
              " 631: 'language',\n",
              " 632: 'waste',\n",
              " 633: 'interface',\n",
              " 634: 'front',\n",
              " 635: 'bathroom',\n",
              " 636: 'reset',\n",
              " 637: 'view',\n",
              " 638: 'place',\n",
              " 639: 'ok',\n",
              " 640: 'expect',\n",
              " 641: 'point',\n",
              " 642: 'delivered',\n",
              " 643: 'replaced',\n",
              " 644: 'hand',\n",
              " 645: 'discovered',\n",
              " 646: 'receive',\n",
              " 647: 'turning',\n",
              " 648: 'thinking',\n",
              " 649: 'recognize',\n",
              " 650: 'automation',\n",
              " 651: 'grandkids',\n",
              " 652: 'cook',\n",
              " 653: 'end',\n",
              " 654: 'course',\n",
              " 655: 'clarity',\n",
              " 656: 'sync',\n",
              " 657: 'sent',\n",
              " 658: 'suggestion',\n",
              " 659: 'cycle',\n",
              " 660: 'content',\n",
              " 661: 'counter',\n",
              " 662: 'equipment',\n",
              " 663: 'entertaining',\n",
              " 664: 'default',\n",
              " 665: 'specific',\n",
              " 666: 'cute',\n",
              " 667: 'unable',\n",
              " 668: 'penny',\n",
              " 669: 'based',\n",
              " 670: 'due',\n",
              " 671: 'expectation',\n",
              " 672: 'sister',\n",
              " 673: 'ended',\n",
              " 674: 'step',\n",
              " 675: 'research',\n",
              " 676: 'iphone',\n",
              " 677: 'called',\n",
              " 678: 'customer',\n",
              " 679: 'answering',\n",
              " 680: 'looked',\n",
              " 681: 'direct',\n",
              " 682: 'particular',\n",
              " 683: 'bug',\n",
              " 684: 'recognition',\n",
              " 685: 'man',\n",
              " 686: 'ai',\n",
              " 687: 'fall',\n",
              " 688: 'task',\n",
              " 689: 'purchasing',\n",
              " 690: 'either',\n",
              " 691: 'packaging',\n",
              " 692: 'example',\n",
              " 693: 'knew',\n",
              " 694: 'area',\n",
              " 695: 'hulu',\n",
              " 696: 'speaking',\n",
              " 697: 'okay',\n",
              " 698: 'adapter',\n",
              " 699: 'beginning',\n",
              " 700: 'stay',\n",
              " 701: 'roku',\n",
              " 702: 'red',\n",
              " 703: 'television',\n",
              " 704: 'together',\n",
              " 705: 'network',\n",
              " 706: 'repair',\n",
              " 707: 'gone',\n",
              " 708: 'guess',\n",
              " 709: 'currently',\n",
              " 710: 'maybe',\n",
              " 711: 'tune',\n",
              " 712: 'grocery',\n",
              " 713: 'communicate',\n",
              " 714: 'within',\n",
              " 715: 'lighting',\n",
              " 716: 'trek',\n",
              " 717: 'minor',\n",
              " 718: 'dont',\n",
              " 719: 'upgrade',\n",
              " 720: 'forget',\n",
              " 721: 'grandchild',\n",
              " 722: 'connects',\n",
              " 723: 'enjoys',\n",
              " 724: 'standard',\n",
              " 725: 'mean',\n",
              " 726: 'discount',\n",
              " 727: 'discovering',\n",
              " 728: 'compact',\n",
              " 729: 'arlo',\n",
              " 730: 'biggest',\n",
              " 731: 'stupid',\n",
              " 732: 'mic',\n",
              " 733: 'direction',\n",
              " 734: 'bottom',\n",
              " 735: 'floor',\n",
              " 736: 'directly',\n",
              " 737: 'premium',\n",
              " 738: 'decide',\n",
              " 739: 'late',\n",
              " 740: 'school',\n",
              " 741: 'variety',\n",
              " 742: 'performs',\n",
              " 743: 'lag',\n",
              " 744: 'close',\n",
              " 745: 'state',\n",
              " 746: 'met',\n",
              " 747: 'slightly',\n",
              " 748: 'strong',\n",
              " 749: 'bt',\n",
              " 750: 'digital',\n",
              " 751: 'controlling',\n",
              " 752: 'la',\n",
              " 753: 'de',\n",
              " 754: 'waiting',\n",
              " 755: 'various',\n",
              " 756: 'short',\n",
              " 757: 'tap',\n",
              " 758: 'pleasantly',\n",
              " 759: 'conversation',\n",
              " 760: 'stereo',\n",
              " 761: 'electronics',\n",
              " 762: 'worried',\n",
              " 763: 'planning',\n",
              " 764: 'certified',\n",
              " 765: 'delivery',\n",
              " 766: 'wall',\n",
              " 767: 'deck',\n",
              " 768: 'possible',\n",
              " 769: 'lack',\n",
              " 770: 'tablet',\n",
              " 771: 'complete',\n",
              " 772: 'member',\n",
              " 773: 'cam',\n",
              " 774: 'certain',\n",
              " 775: 'speed',\n",
              " 776: 'move',\n",
              " 777: 'properly',\n",
              " 778: 'switch',\n",
              " 779: 'scroll',\n",
              " 780: 'text',\n",
              " 781: 'walk',\n",
              " 782: 'present',\n",
              " 783: 'purpose',\n",
              " 784: 'trivia',\n",
              " 785: 'photo',\n",
              " 786: 'occasionally',\n",
              " 787: 'child',\n",
              " 788: 'returned',\n",
              " 789: 'cancel',\n",
              " 790: 'act',\n",
              " 791: 'correctly',\n",
              " 792: 'exploring',\n",
              " 793: 'poor',\n",
              " 794: 'capable',\n",
              " 795: 'hit',\n",
              " 796: 'sensitive',\n",
              " 797: 'sooner',\n",
              " 798: 'including',\n",
              " 799: 'apartment',\n",
              " 800: 'slowly',\n",
              " 801: 'classroom',\n",
              " 802: 'artist',\n",
              " 803: 'refurb',\n",
              " 804: 'form',\n",
              " 805: 'desk',\n",
              " 806: 'four',\n",
              " 807: 'yard',\n",
              " 808: 'waking',\n",
              " 809: 'weird',\n",
              " 810: 'visual',\n",
              " 811: 'model',\n",
              " 812: 'negative',\n",
              " 813: 'iheartradio',\n",
              " 814: 'primarily',\n",
              " 815: 'updated',\n",
              " 816: 'personally',\n",
              " 817: 'previous',\n",
              " 818: 'remember',\n",
              " 819: 'imagine',\n",
              " 820: 'opinion',\n",
              " 821: 'benefit',\n",
              " 822: 'advanced',\n",
              " 823: 'whether',\n",
              " 824: 'coming',\n",
              " 825: 'rate',\n",
              " 826: 'shipping',\n",
              " 827: 'cordless',\n",
              " 828: 'website',\n",
              " 829: 'case',\n",
              " 830: 'dropping',\n",
              " 831: 'rock',\n",
              " 832: 'twice',\n",
              " 833: 'hears',\n",
              " 834: 'downloaded',\n",
              " 835: 'navigate',\n",
              " 836: 'randomly',\n",
              " 837: 'breeze',\n",
              " 838: 'special',\n",
              " 839: 'connectivity',\n",
              " 840: 'delay',\n",
              " 841: 'installing',\n",
              " 842: 'surprisingly',\n",
              " 843: 'current',\n",
              " 844: 'excelente',\n",
              " 845: 'person',\n",
              " 846: 'appointment',\n",
              " 847: 'rotate',\n",
              " 848: 'adjust',\n",
              " 849: 'treble',\n",
              " 850: 'elderly',\n",
              " 851: 'hesitant',\n",
              " 852: 'company',\n",
              " 853: 'facetime',\n",
              " 854: 'skype',\n",
              " 855: 'increase',\n",
              " 856: 'fixed',\n",
              " 857: 'hardly',\n",
              " 858: 'cloud',\n",
              " 859: 'trailer',\n",
              " 860: 'slow',\n",
              " 861: 'cant',\n",
              " 862: 'accent',\n",
              " 863: 'greater',\n",
              " 864: 'correct',\n",
              " 865: 'resist',\n",
              " 866: 'eye',\n",
              " 867: 'important',\n",
              " 868: 'date',\n",
              " 869: 'pleasure',\n",
              " 870: 'privacy',\n",
              " 871: 'cover',\n",
              " 872: 'likely',\n",
              " 873: 'bonus',\n",
              " 874: 'result',\n",
              " 875: 'lose',\n",
              " 876: 'moment',\n",
              " 877: 'aware',\n",
              " 878: 'challenge',\n",
              " 879: 'outstanding',\n",
              " 880: 'general',\n",
              " 881: 'reading',\n",
              " 882: 'specifically',\n",
              " 883: 'im',\n",
              " 884: 'downside',\n",
              " 885: 'hope',\n",
              " 886: 'intended',\n",
              " 887: 'downstairs',\n",
              " 888: 'provided',\n",
              " 889: 'learned',\n",
              " 890: 'saw',\n",
              " 891: 'provides',\n",
              " 892: 'local',\n",
              " 893: 'report',\n",
              " 894: 'leaving',\n",
              " 895: 'brought',\n",
              " 896: 'giving',\n",
              " 897: 'nest',\n",
              " 898: 'rid',\n",
              " 899: 'mode',\n",
              " 900: 'viewing',\n",
              " 901: 'searching',\n",
              " 902: 'honestly',\n",
              " 903: 'kinda',\n",
              " 904: 'medium',\n",
              " 905: 'garbage',\n",
              " 906: 'versatile',\n",
              " 907: 'happened',\n",
              " 908: 'described',\n",
              " 909: 'sonos',\n",
              " 910: 'entire',\n",
              " 911: 'swipe',\n",
              " 912: 'seamlessly',\n",
              " 913: 'exchange',\n",
              " 914: 'plenty',\n",
              " 915: 'rent',\n",
              " 916: 'liking',\n",
              " 917: 'test',\n",
              " 918: 'obvious',\n",
              " 919: 'repeated',\n",
              " 920: 'charge',\n",
              " 921: 'rest',\n",
              " 922: 'distance',\n",
              " 923: 'resolution',\n",
              " 924: 'tall',\n",
              " 925: 'age',\n",
              " 926: 'sized',\n",
              " 927: 'effective',\n",
              " 928: 'reminds',\n",
              " 929: 'warranty',\n",
              " 930: 'changing',\n",
              " 931: 'directv',\n",
              " 932: 'weak',\n",
              " 933: 'thoroughly',\n",
              " 934: 'audiobook',\n",
              " 935: 'wonderfully',\n",
              " 936: 'tip',\n",
              " 937: 'complain',\n",
              " 938: 'non',\n",
              " 939: 'background',\n",
              " 940: 'player',\n",
              " 941: 'installed',\n",
              " 942: 'created',\n",
              " 943: 'named',\n",
              " 944: 'apparently',\n",
              " 945: 'paying',\n",
              " 946: 'fidelity',\n",
              " 947: 'separate',\n",
              " 948: 'sitting',\n",
              " 949: 'site',\n",
              " 950: 'disappointing',\n",
              " 951: 'true',\n",
              " 952: 'shout',\n",
              " 953: 'seriously',\n",
              " 954: 'advantage',\n",
              " 955: 'pair',\n",
              " 956: 'portable',\n",
              " 957: 'confused',\n",
              " 958: 'havent',\n",
              " 959: 'initially',\n",
              " 960: 'disconnect',\n",
              " 961: 'pain',\n",
              " 962: 'buck',\n",
              " 963: 'taking',\n",
              " 964: 'everyday',\n",
              " 965: 'password',\n",
              " 966: 'yelling',\n",
              " 967: 'que',\n",
              " 968: 'se',\n",
              " 969: 'include',\n",
              " 970: 'web',\n",
              " 971: 'shut',\n",
              " 972: 'explore',\n",
              " 973: 'impressive',\n",
              " 974: 'instantly',\n",
              " 975: 'powerful',\n",
              " 976: 'mind',\n",
              " 977: 'activated',\n",
              " 978: 'manage',\n",
              " 979: 'reach',\n",
              " 980: 'charm',\n",
              " 981: 'phenomenal',\n",
              " 982: 'random',\n",
              " 983: 'android',\n",
              " 984: 'beautiful',\n",
              " 985: 'unplug',\n",
              " 986: 'alex',\n",
              " 987: 'library',\n",
              " 988: 'awhile',\n",
              " 989: 'dog',\n",
              " 990: 'owned',\n",
              " 991: 'decrease',\n",
              " 992: 'english',\n",
              " 993: 'quicker',\n",
              " 994: 'none',\n",
              " 995: 'glitch',\n",
              " 996: 'yr',\n",
              " 997: 'router',\n",
              " 998: 'phillips',\n",
              " 999: 'level',\n",
              " 1000: 'country',\n",
              " ...}"
            ]
          },
          "metadata": {
            "tags": []
          },
          "execution_count": 33
        }
      ]
    },
    {
      "cell_type": "code",
      "metadata": {
        "id": "1IIDwMbFZpDH"
      },
      "source": [
        "sequence_train=tok.texts_to_sequences(x_train)"
      ],
      "execution_count": 34,
      "outputs": []
    },
    {
      "cell_type": "code",
      "metadata": {
        "id": "8_DCM_OcZpKT"
      },
      "source": [
        "sequence_matrix_train=sequence.pad_sequences(sequence_train,maxlen=max_len)"
      ],
      "execution_count": 35,
      "outputs": []
    },
    {
      "cell_type": "code",
      "metadata": {
        "colab": {
          "base_uri": "https://localhost:8080/"
        },
        "id": "5NZh8F-5ZpPs",
        "outputId": "11393f48-089a-43ea-e2d8-6b9e105e98fb"
      },
      "source": [
        "sequence_matrix_train"
      ],
      "execution_count": 36,
      "outputs": [
        {
          "output_type": "execute_result",
          "data": {
            "text/plain": [
              "array([[   0,    0,    0, ...,    0,    1,    4],\n",
              "       [   0,    0,    0, ...,    0,    0,    1],\n",
              "       [   0,    0,    0, ...,  173,    1,    1],\n",
              "       ...,\n",
              "       [   0,    0,    0, ...,  180,   83,  264],\n",
              "       [   0,    0,    0, ...,   91, 1912,  211],\n",
              "       [   0,    0,    0, ...,    0,    0,    0]], dtype=int32)"
            ]
          },
          "metadata": {
            "tags": []
          },
          "execution_count": 36
        }
      ]
    },
    {
      "cell_type": "code",
      "metadata": {
        "colab": {
          "base_uri": "https://localhost:8080/"
        },
        "id": "Il8q0RA1ZpSY",
        "outputId": "178cca92-46d8-4099-c560-eed3be3af6f6"
      },
      "source": [
        "sequence_matrix_train[0]"
      ],
      "execution_count": 37,
      "outputs": [
        {
          "output_type": "execute_result",
          "data": {
            "text/plain": [
              "array([0, 0, 0, 0, 0, 0, 0, 0, 0, 0, 0, 0, 0, 0, 0, 0, 0, 0, 0, 0, 0, 0,\n",
              "       0, 0, 0, 0, 0, 0, 0, 0, 0, 0, 0, 0, 0, 0, 0, 0, 1, 4], dtype=int32)"
            ]
          },
          "metadata": {
            "tags": []
          },
          "execution_count": 37
        }
      ]
    },
    {
      "cell_type": "code",
      "metadata": {
        "colab": {
          "base_uri": "https://localhost:8080/"
        },
        "id": "tWNwePAiZyIb",
        "outputId": "a4c1931e-2887-4bf6-d80c-f332f841e6fb"
      },
      "source": [
        "sequence_matrix_train[1]"
      ],
      "execution_count": 38,
      "outputs": [
        {
          "output_type": "execute_result",
          "data": {
            "text/plain": [
              "array([0, 0, 0, 0, 0, 0, 0, 0, 0, 0, 0, 0, 0, 0, 0, 0, 0, 0, 0, 0, 0, 0,\n",
              "       0, 0, 0, 0, 0, 0, 0, 0, 0, 0, 0, 0, 0, 0, 0, 0, 0, 1], dtype=int32)"
            ]
          },
          "metadata": {
            "tags": []
          },
          "execution_count": 38
        }
      ]
    },
    {
      "cell_type": "code",
      "metadata": {
        "colab": {
          "base_uri": "https://localhost:8080/"
        },
        "id": "6vtnGjvWZyLH",
        "outputId": "cb6af9f5-1551-40f1-bc86-fd2ca516264a"
      },
      "source": [
        "vocab_len=len(tok.index_word)\n",
        "print(vocab_len)"
      ],
      "execution_count": 39,
      "outputs": [
        {
          "output_type": "stream",
          "text": [
            "3191\n"
          ],
          "name": "stdout"
        }
      ]
    },
    {
      "cell_type": "code",
      "metadata": {
        "id": "IT3ZB9a3ZyOQ"
      },
      "source": [
        "from tensorflow.keras.models import Sequential\n",
        "from tensorflow.keras.layers import Dense,Dropout,Embedding,LSTM\n",
        "from keras import regularizers"
      ],
      "execution_count": 40,
      "outputs": []
    },
    {
      "cell_type": "code",
      "metadata": {
        "id": "ASTaHW0DZyRH"
      },
      "source": [
        "model=Sequential()\n",
        "model.add(Embedding(vocab_len+1,500,input_length=max_len,mask_zero=True))\n",
        "model.add(Dense(128,activation='relu',kernel_regularizer=regularizers.l2(0.01)))\n",
        "model.add(LSTM(128,activation='tanh'))\n",
        "model.add(Dropout(0.2))\n",
        "model.add(Dense(1,activation='sigmoid'))"
      ],
      "execution_count": 41,
      "outputs": []
    },
    {
      "cell_type": "code",
      "metadata": {
        "id": "Fvft1REUZ94K"
      },
      "source": [
        "model.compile(optimizer='adam',loss='binary_crossentropy',metrics=['accuracy'])"
      ],
      "execution_count": 42,
      "outputs": []
    },
    {
      "cell_type": "code",
      "metadata": {
        "colab": {
          "base_uri": "https://localhost:8080/"
        },
        "id": "Md4sBpNsZ97S",
        "outputId": "3e1137b4-5c27-441c-83ec-1518861826d3"
      },
      "source": [
        "trained_model=model.fit(sequence_matrix_train,y_train,epochs=50,validation_split=0.2)"
      ],
      "execution_count": 43,
      "outputs": [
        {
          "output_type": "stream",
          "text": [
            "Epoch 1/50\n",
            "63/63 [==============================] - 11s 122ms/step - loss: 1.2184 - accuracy: 0.9097 - val_loss: 0.4554 - val_accuracy: 0.9187\n",
            "Epoch 2/50\n",
            "63/63 [==============================] - 6s 97ms/step - loss: 0.2636 - accuracy: 0.9241 - val_loss: 0.2383 - val_accuracy: 0.9306\n",
            "Epoch 3/50\n",
            "63/63 [==============================] - 6s 96ms/step - loss: 0.1327 - accuracy: 0.9514 - val_loss: 0.2572 - val_accuracy: 0.9365\n",
            "Epoch 4/50\n",
            "63/63 [==============================] - 6s 97ms/step - loss: 0.0888 - accuracy: 0.9673 - val_loss: 0.2396 - val_accuracy: 0.9266\n",
            "Epoch 5/50\n",
            "63/63 [==============================] - 6s 95ms/step - loss: 0.0694 - accuracy: 0.9792 - val_loss: 0.2984 - val_accuracy: 0.9385\n",
            "Epoch 6/50\n",
            "63/63 [==============================] - 6s 96ms/step - loss: 0.0567 - accuracy: 0.9856 - val_loss: 0.2860 - val_accuracy: 0.9286\n",
            "Epoch 7/50\n",
            "63/63 [==============================] - 6s 99ms/step - loss: 0.0793 - accuracy: 0.9767 - val_loss: 0.2640 - val_accuracy: 0.9226\n",
            "Epoch 8/50\n",
            "63/63 [==============================] - 6s 97ms/step - loss: 0.0603 - accuracy: 0.9846 - val_loss: 0.3386 - val_accuracy: 0.9405\n",
            "Epoch 9/50\n",
            "63/63 [==============================] - 6s 97ms/step - loss: 0.0403 - accuracy: 0.9896 - val_loss: 0.3933 - val_accuracy: 0.9405\n",
            "Epoch 10/50\n",
            "63/63 [==============================] - 6s 96ms/step - loss: 0.0464 - accuracy: 0.9891 - val_loss: 0.3496 - val_accuracy: 0.9306\n",
            "Epoch 11/50\n",
            "63/63 [==============================] - 6s 96ms/step - loss: 0.0382 - accuracy: 0.9906 - val_loss: 0.3412 - val_accuracy: 0.9067\n",
            "Epoch 12/50\n",
            "63/63 [==============================] - 6s 96ms/step - loss: 0.0294 - accuracy: 0.9926 - val_loss: 0.3293 - val_accuracy: 0.9306\n",
            "Epoch 13/50\n",
            "63/63 [==============================] - 6s 97ms/step - loss: 0.0270 - accuracy: 0.9921 - val_loss: 0.4040 - val_accuracy: 0.9385\n",
            "Epoch 14/50\n",
            "63/63 [==============================] - 6s 96ms/step - loss: 0.0270 - accuracy: 0.9921 - val_loss: 0.4077 - val_accuracy: 0.9385\n",
            "Epoch 15/50\n",
            "63/63 [==============================] - 6s 95ms/step - loss: 0.0256 - accuracy: 0.9926 - val_loss: 0.3791 - val_accuracy: 0.9345\n",
            "Epoch 16/50\n",
            "63/63 [==============================] - 6s 95ms/step - loss: 0.0239 - accuracy: 0.9926 - val_loss: 0.3953 - val_accuracy: 0.9365\n",
            "Epoch 17/50\n",
            "63/63 [==============================] - 6s 96ms/step - loss: 0.0233 - accuracy: 0.9921 - val_loss: 0.3663 - val_accuracy: 0.9325\n",
            "Epoch 18/50\n",
            "63/63 [==============================] - 6s 96ms/step - loss: 0.0238 - accuracy: 0.9926 - val_loss: 0.4702 - val_accuracy: 0.9226\n",
            "Epoch 19/50\n",
            "63/63 [==============================] - 6s 97ms/step - loss: 0.0257 - accuracy: 0.9921 - val_loss: 0.4241 - val_accuracy: 0.9345\n",
            "Epoch 20/50\n",
            "63/63 [==============================] - 6s 96ms/step - loss: 0.0553 - accuracy: 0.9861 - val_loss: 0.3826 - val_accuracy: 0.9266\n",
            "Epoch 21/50\n",
            "63/63 [==============================] - 6s 96ms/step - loss: 0.0715 - accuracy: 0.9802 - val_loss: 0.2988 - val_accuracy: 0.9405\n",
            "Epoch 22/50\n",
            "63/63 [==============================] - 6s 96ms/step - loss: 0.0348 - accuracy: 0.9906 - val_loss: 0.2758 - val_accuracy: 0.9444\n",
            "Epoch 23/50\n",
            "63/63 [==============================] - 6s 96ms/step - loss: 0.0337 - accuracy: 0.9911 - val_loss: 0.3219 - val_accuracy: 0.9286\n",
            "Epoch 24/50\n",
            "63/63 [==============================] - 6s 96ms/step - loss: 0.0255 - accuracy: 0.9926 - val_loss: 0.3121 - val_accuracy: 0.9385\n",
            "Epoch 25/50\n",
            "63/63 [==============================] - 6s 96ms/step - loss: 0.0231 - accuracy: 0.9921 - val_loss: 0.3797 - val_accuracy: 0.9484\n",
            "Epoch 26/50\n",
            "63/63 [==============================] - 6s 97ms/step - loss: 0.0227 - accuracy: 0.9926 - val_loss: 0.3401 - val_accuracy: 0.9464\n",
            "Epoch 27/50\n",
            "63/63 [==============================] - 6s 97ms/step - loss: 0.0213 - accuracy: 0.9926 - val_loss: 0.3539 - val_accuracy: 0.9464\n",
            "Epoch 28/50\n",
            "63/63 [==============================] - 6s 96ms/step - loss: 0.0208 - accuracy: 0.9926 - val_loss: 0.3159 - val_accuracy: 0.9444\n",
            "Epoch 29/50\n",
            "63/63 [==============================] - 6s 97ms/step - loss: 0.0207 - accuracy: 0.9926 - val_loss: 0.3309 - val_accuracy: 0.9444\n",
            "Epoch 30/50\n",
            "63/63 [==============================] - 6s 96ms/step - loss: 0.0204 - accuracy: 0.9926 - val_loss: 0.3210 - val_accuracy: 0.9444\n",
            "Epoch 31/50\n",
            "63/63 [==============================] - 6s 97ms/step - loss: 0.0201 - accuracy: 0.9926 - val_loss: 0.4098 - val_accuracy: 0.9444\n",
            "Epoch 32/50\n",
            "63/63 [==============================] - 6s 98ms/step - loss: 0.0200 - accuracy: 0.9926 - val_loss: 0.4157 - val_accuracy: 0.9444\n",
            "Epoch 33/50\n",
            "63/63 [==============================] - 6s 98ms/step - loss: 0.0199 - accuracy: 0.9926 - val_loss: 0.3853 - val_accuracy: 0.9405\n",
            "Epoch 34/50\n",
            "63/63 [==============================] - 6s 96ms/step - loss: 0.0198 - accuracy: 0.9926 - val_loss: 0.4068 - val_accuracy: 0.9266\n",
            "Epoch 35/50\n",
            "63/63 [==============================] - 6s 97ms/step - loss: 0.0214 - accuracy: 0.9926 - val_loss: 0.3366 - val_accuracy: 0.9425\n",
            "Epoch 36/50\n",
            "63/63 [==============================] - 6s 97ms/step - loss: 0.0197 - accuracy: 0.9926 - val_loss: 0.3390 - val_accuracy: 0.9405\n",
            "Epoch 37/50\n",
            "63/63 [==============================] - 6s 97ms/step - loss: 0.0194 - accuracy: 0.9926 - val_loss: 0.3465 - val_accuracy: 0.9425\n",
            "Epoch 38/50\n",
            "63/63 [==============================] - 6s 97ms/step - loss: 0.0207 - accuracy: 0.9926 - val_loss: 0.4258 - val_accuracy: 0.9206\n",
            "Epoch 39/50\n",
            "63/63 [==============================] - 6s 97ms/step - loss: 0.0193 - accuracy: 0.9926 - val_loss: 0.4122 - val_accuracy: 0.9306\n",
            "Epoch 40/50\n",
            "63/63 [==============================] - 6s 97ms/step - loss: 0.0679 - accuracy: 0.9851 - val_loss: 0.6027 - val_accuracy: 0.9067\n",
            "Epoch 41/50\n",
            "63/63 [==============================] - 6s 99ms/step - loss: 0.0551 - accuracy: 0.9876 - val_loss: 0.3032 - val_accuracy: 0.9365\n",
            "Epoch 42/50\n",
            "63/63 [==============================] - 6s 99ms/step - loss: 0.0264 - accuracy: 0.9921 - val_loss: 0.3740 - val_accuracy: 0.9425\n",
            "Epoch 43/50\n",
            "63/63 [==============================] - 6s 98ms/step - loss: 0.0213 - accuracy: 0.9926 - val_loss: 0.2631 - val_accuracy: 0.9444\n",
            "Epoch 44/50\n",
            "63/63 [==============================] - 6s 97ms/step - loss: 0.0641 - accuracy: 0.9851 - val_loss: 0.4193 - val_accuracy: 0.9405\n",
            "Epoch 45/50\n",
            "63/63 [==============================] - 6s 97ms/step - loss: 0.0268 - accuracy: 0.9926 - val_loss: 0.2871 - val_accuracy: 0.9325\n",
            "Epoch 46/50\n",
            "63/63 [==============================] - 6s 98ms/step - loss: 0.0208 - accuracy: 0.9926 - val_loss: 0.3087 - val_accuracy: 0.9385\n",
            "Epoch 47/50\n",
            "63/63 [==============================] - 6s 98ms/step - loss: 0.0201 - accuracy: 0.9926 - val_loss: 0.3536 - val_accuracy: 0.9464\n",
            "Epoch 48/50\n",
            "63/63 [==============================] - 6s 98ms/step - loss: 0.0194 - accuracy: 0.9926 - val_loss: 0.3023 - val_accuracy: 0.9385\n",
            "Epoch 49/50\n",
            "63/63 [==============================] - 6s 98ms/step - loss: 0.0191 - accuracy: 0.9926 - val_loss: 0.3408 - val_accuracy: 0.9345\n",
            "Epoch 50/50\n",
            "63/63 [==============================] - 6s 97ms/step - loss: 0.0187 - accuracy: 0.9926 - val_loss: 0.3540 - val_accuracy: 0.9385\n"
          ],
          "name": "stdout"
        }
      ]
    },
    {
      "cell_type": "code",
      "metadata": {
        "colab": {
          "base_uri": "https://localhost:8080/",
          "height": 282
        },
        "id": "U-xEzziFZ9-i",
        "outputId": "332b2301-6e76-43ae-ec57-f9f38e6862f5"
      },
      "source": [
        "plt.plot(trained_model.history['loss'])\n",
        "plt.show()"
      ],
      "execution_count": 44,
      "outputs": [
        {
          "output_type": "display_data",
          "data": {
            "image/png": "[encoded data removed]",
            "text/plain": [
              "<Figure size 432x288 with 1 Axes>"
            ]
          },
          "metadata": {
            "tags": []
          }
        }
      ]
    },
    {
      "cell_type": "code",
      "metadata": {
        "colab": {
          "base_uri": "https://localhost:8080/",
          "height": 282
        },
        "id": "tlzvGaSjZ-Au",
        "outputId": "dfa182dd-4e29-462c-ada3-53e5fb2dda66"
      },
      "source": [
        "plt.plot(trained_model.history['accuracy'])\n",
        "plt.show()"
      ],
      "execution_count": 45,
      "outputs": [
        {
          "output_type": "display_data",
          "data": {
            "image/png": "[encoded data removed]",
            "text/plain": [
              "<Figure size 432x288 with 1 Axes>"
            ]
          },
          "metadata": {
            "tags": []
          }
        }
      ]
    },
    {
      "cell_type": "code",
      "metadata": {
        "colab": {
          "base_uri": "https://localhost:8080/"
        },
        "id": "xRbncyeXaXXQ",
        "outputId": "1d61f8a6-7b88-469f-b88a-1df8f987f46e"
      },
      "source": [
        "x_test"
      ],
      "execution_count": 46,
      "outputs": [
        {
          "output_type": "execute_result",
          "data": {
            "text/plain": [
              "422                           simple set music everywhere\n",
              "1581                                                     \n",
              "1185                        think dot listens better spot\n",
              "683     brand new echo dot thought refurbished would g...\n",
              "305                   great music little hard figure work\n",
              "                              ...                        \n",
              "1276    love little dot screen super easy set easy use...\n",
              "3099                                          good device\n",
              "841     alexa since beginning accidentally spilled wat...\n",
              "44                                                  great\n",
              "615     took little work set finally got sound quality...\n",
              "Name: verified_reviews, Length: 630, dtype: object"
            ]
          },
          "metadata": {
            "tags": []
          },
          "execution_count": 46
        }
      ]
    },
    {
      "cell_type": "code",
      "metadata": {
        "id": "9bViiIggaXaX"
      },
      "source": [
        "x_matrix_test=sequence.pad_sequences(tok.texts_to_sequences(x_test))"
      ],
      "execution_count": 47,
      "outputs": []
    },
    {
      "cell_type": "code",
      "metadata": {
        "colab": {
          "base_uri": "https://localhost:8080/"
        },
        "id": "Om5OCcTiaXc8",
        "outputId": "7cf1abd2-b428-4fc7-afa5-26414c8055d4"
      },
      "source": [
        "y_pred=model.predict(x_matrix_test)\n",
        "import warnings\n",
        "warnings.filterwarnings('ignore')"
      ],
      "execution_count": 48,
      "outputs": [
        {
          "output_type": "stream",
          "text": [
            "WARNING:tensorflow:Model was constructed with shape (None, 40) for input KerasTensor(type_spec=TensorSpec(shape=(None, 40), dtype=tf.float32, name='embedding_input'), name='embedding_input', description=\"created by layer 'embedding_input'\"), but it was called on an input with incompatible shape (None, 92).\n"
          ],
          "name": "stdout"
        }
      ]
    },
    {
      "cell_type": "code",
      "metadata": {
        "colab": {
          "base_uri": "https://localhost:8080/"
        },
        "id": "c4v6ghmzaXfT",
        "outputId": "aa01bd1d-e96c-4e47-8ef9-38fb44c5a80b"
      },
      "source": [
        "y_pred=np.where(y_pred>0.5,1,0)\n",
        "print(y_pred[0:5])"
      ],
      "execution_count": 49,
      "outputs": [
        {
          "output_type": "stream",
          "text": [
            "[[1]\n",
            " [1]\n",
            " [0]\n",
            " [0]\n",
            " [1]]\n"
          ],
          "name": "stdout"
        }
      ]
    },
    {
      "cell_type": "code",
      "metadata": {
        "colab": {
          "base_uri": "https://localhost:8080/"
        },
        "id": "_biZ2KSdbkdo",
        "outputId": "300feb16-9d5a-40ed-9e3c-db59d35f8d0d"
      },
      "source": [
        "print(y_test[0:5])"
      ],
      "execution_count": 50,
      "outputs": [
        {
          "output_type": "stream",
          "text": [
            "422     1\n",
            "1581    1\n",
            "1185    1\n",
            "683     1\n",
            "305     1\n",
            "Name: feedback, dtype: int64\n"
          ],
          "name": "stdout"
        }
      ]
    },
    {
      "cell_type": "code",
      "metadata": {
        "id": "IEuinuEIbkh0"
      },
      "source": [
        "from sklearn.metrics import classification_report,confusion_matrix"
      ],
      "execution_count": 51,
      "outputs": []
    },
    {
      "cell_type": "code",
      "metadata": {
        "colab": {
          "base_uri": "https://localhost:8080/"
        },
        "id": "aKyGpdQRbkr9",
        "outputId": "6e55ccc6-fdbc-406a-ad53-11f9e012dac7"
      },
      "source": [
        "print(classification_report(y_test,y_pred))\n",
        "print(\"\\nConfusion Matrix\")\n",
        "print(confusion_matrix(y_test,y_pred))"
      ],
      "execution_count": 52,
      "outputs": [
        {
          "output_type": "stream",
          "text": [
            "              precision    recall  f1-score   support\n",
            "\n",
            "           0       0.56      0.37      0.44        54\n",
            "           1       0.94      0.97      0.96       576\n",
            "\n",
            "    accuracy                           0.92       630\n",
            "   macro avg       0.75      0.67      0.70       630\n",
            "weighted avg       0.91      0.92      0.91       630\n",
            "\n",
            "\n",
            "Confusion Matrix\n",
            "[[ 20  34]\n",
            " [ 16 560]]\n"
          ],
          "name": "stdout"
        }
      ]
    },
    {
      "cell_type": "code",
      "metadata": {
        "id": "qvJ5mbSHbku9"
      },
      "source": [
        ""
      ],
      "execution_count": 52,
      "outputs": []
    },
    {
      "cell_type": "code",
      "metadata": {
        "id": "x-AZMD24bkx4"
      },
      "source": [
        ""
      ],
      "execution_count": 52,
      "outputs": []
    },
    {
      "cell_type": "code",
      "metadata": {
        "id": "1dssN5W5bk3z"
      },
      "source": [
        ""
      ],
      "execution_count": 52,
      "outputs": []
    },
    {
      "cell_type": "code",
      "metadata": {
        "id": "5Cbp_Ul6bk7O"
      },
      "source": [
        ""
      ],
      "execution_count": 52,
      "outputs": []
    },
    {
      "cell_type": "code",
      "metadata": {
        "id": "im5kZrnnYbUJ"
      },
      "source": [
        ""
      ],
      "execution_count": 52,
      "outputs": []
    },
    {
      "cell_type": "code",
      "metadata": {
        "id": "qxy9WQtFzfbC"
      },
      "source": [
        "stop=stopwords.words('english') \n",
        "\n"
      ],
      "execution_count": 53,
      "outputs": []
    },
    {
      "cell_type": "code",
      "metadata": {
        "id": "XtQ7tUTGHY7h"
      },
      "source": [
        "def clean_text(text):\n",
        "    stop = stopwords.words('english') #stopwords list\n",
        "    punc = list(punctuation) #punctuation list\n",
        "    bad_tokens = stop + punc\n",
        "    lemma = WordNetLemmatizer()\n",
        "    tokens = word_tokenize(text) # tokenization\n",
        "    word_tokens = [t for t in tokens if t.isalpha()] # removing numbers \n",
        "    # lemmatization,  stopwords & punctuation removal, to lower case\n",
        "    clean_token = [lemma.lemmatize(t.lower()) for t in word_tokens if t not in bad_tokens]\n",
        "    return \" \".join(clean_token)"
      ],
      "execution_count": 54,
      "outputs": []
    },
    {
      "cell_type": "code",
      "metadata": {
        "colab": {
          "base_uri": "https://localhost:8080/",
          "height": 204
        },
        "id": "c8JOxGHx0omn",
        "outputId": "e209ef0e-b2f0-43e6-f37a-a5a082bab52d"
      },
      "source": [
        "df.head()"
      ],
      "execution_count": 55,
      "outputs": [
        {
          "output_type": "execute_result",
          "data": {
            "text/html": [
              "<div>\n",
              "<style scoped>\n",
              "    .dataframe tbody tr th:only-of-type {\n",
              "        vertical-align: middle;\n",
              "    }\n",
              "\n",
              "    .dataframe tbody tr th {\n",
              "        vertical-align: top;\n",
              "    }\n",
              "\n",
              "    .dataframe thead th {\n",
              "        text-align: right;\n",
              "    }\n",
              "</style>\n",
              "<table border=\"1\" class=\"dataframe\">\n",
              "  <thead>\n",
              "    <tr style=\"text-align: right;\">\n",
              "      <th></th>\n",
              "      <th>verified_reviews</th>\n",
              "      <th>feedback</th>\n",
              "      <th>length</th>\n",
              "      <th>sent_len</th>\n",
              "    </tr>\n",
              "  </thead>\n",
              "  <tbody>\n",
              "    <tr>\n",
              "      <th>0</th>\n",
              "      <td>love echo</td>\n",
              "      <td>1</td>\n",
              "      <td>13</td>\n",
              "      <td>2</td>\n",
              "    </tr>\n",
              "    <tr>\n",
              "      <th>1</th>\n",
              "      <td>loved</td>\n",
              "      <td>1</td>\n",
              "      <td>9</td>\n",
              "      <td>1</td>\n",
              "    </tr>\n",
              "    <tr>\n",
              "      <th>2</th>\n",
              "      <td>sometimes playing game answer question correct...</td>\n",
              "      <td>1</td>\n",
              "      <td>195</td>\n",
              "      <td>17</td>\n",
              "    </tr>\n",
              "    <tr>\n",
              "      <th>3</th>\n",
              "      <td>lot fun thing yr old learns dinosaur control l...</td>\n",
              "      <td>1</td>\n",
              "      <td>172</td>\n",
              "      <td>18</td>\n",
              "    </tr>\n",
              "    <tr>\n",
              "      <th>4</th>\n",
              "      <td>music</td>\n",
              "      <td>1</td>\n",
              "      <td>5</td>\n",
              "      <td>1</td>\n",
              "    </tr>\n",
              "  </tbody>\n",
              "</table>\n",
              "</div>"
            ],
            "text/plain": [
              "                                    verified_reviews  ...  sent_len\n",
              "0                                          love echo  ...         2\n",
              "1                                              loved  ...         1\n",
              "2  sometimes playing game answer question correct...  ...        17\n",
              "3  lot fun thing yr old learns dinosaur control l...  ...        18\n",
              "4                                              music  ...         1\n",
              "\n",
              "[5 rows x 4 columns]"
            ]
          },
          "metadata": {
            "tags": []
          },
          "execution_count": 55
        }
      ]
    },
    {
      "cell_type": "code",
      "metadata": {
        "colab": {
          "base_uri": "https://localhost:8080/",
          "height": 485
        },
        "id": "1C0AcILASyIb",
        "outputId": "d5ee75fb-ac5c-46a2-904d-de1ccfa992e8"
      },
      "source": [
        "from textblob import TextBlob\n",
        "\n",
        "pol = lambda x: TextBlob(x).sentiment.polarity\n",
        "sub = lambda x: TextBlob(x).sentiment.subjectivity\n",
        "\n",
        "df['polarity'] = df['verified_reviews'].apply(pol)\n",
        "df['subjectivity'] = df['verified_reviews'].apply(sub)\n",
        "df"
      ],
      "execution_count": 56,
      "outputs": [
        {
          "output_type": "execute_result",
          "data": {
            "text/html": [
              "<div>\n",
              "<style scoped>\n",
              "    .dataframe tbody tr th:only-of-type {\n",
              "        vertical-align: middle;\n",
              "    }\n",
              "\n",
              "    .dataframe tbody tr th {\n",
              "        vertical-align: top;\n",
              "    }\n",
              "\n",
              "    .dataframe thead th {\n",
              "        text-align: right;\n",
              "    }\n",
              "</style>\n",
              "<table border=\"1\" class=\"dataframe\">\n",
              "  <thead>\n",
              "    <tr style=\"text-align: right;\">\n",
              "      <th></th>\n",
              "      <th>verified_reviews</th>\n",
              "      <th>feedback</th>\n",
              "      <th>length</th>\n",
              "      <th>sent_len</th>\n",
              "      <th>polarity</th>\n",
              "      <th>subjectivity</th>\n",
              "    </tr>\n",
              "  </thead>\n",
              "  <tbody>\n",
              "    <tr>\n",
              "      <th>0</th>\n",
              "      <td>love echo</td>\n",
              "      <td>1</td>\n",
              "      <td>13</td>\n",
              "      <td>2</td>\n",
              "      <td>0.500000</td>\n",
              "      <td>0.600000</td>\n",
              "    </tr>\n",
              "    <tr>\n",
              "      <th>1</th>\n",
              "      <td>loved</td>\n",
              "      <td>1</td>\n",
              "      <td>9</td>\n",
              "      <td>1</td>\n",
              "      <td>0.700000</td>\n",
              "      <td>0.800000</td>\n",
              "    </tr>\n",
              "    <tr>\n",
              "      <th>2</th>\n",
              "      <td>sometimes playing game answer question correct...</td>\n",
              "      <td>1</td>\n",
              "      <td>195</td>\n",
              "      <td>17</td>\n",
              "      <td>0.000000</td>\n",
              "      <td>0.656250</td>\n",
              "    </tr>\n",
              "    <tr>\n",
              "      <th>3</th>\n",
              "      <td>lot fun thing yr old learns dinosaur control l...</td>\n",
              "      <td>1</td>\n",
              "      <td>172</td>\n",
              "      <td>18</td>\n",
              "      <td>0.233333</td>\n",
              "      <td>0.483333</td>\n",
              "    </tr>\n",
              "    <tr>\n",
              "      <th>4</th>\n",
              "      <td>music</td>\n",
              "      <td>1</td>\n",
              "      <td>5</td>\n",
              "      <td>1</td>\n",
              "      <td>0.000000</td>\n",
              "      <td>0.000000</td>\n",
              "    </tr>\n",
              "    <tr>\n",
              "      <th>...</th>\n",
              "      <td>...</td>\n",
              "      <td>...</td>\n",
              "      <td>...</td>\n",
              "      <td>...</td>\n",
              "      <td>...</td>\n",
              "      <td>...</td>\n",
              "    </tr>\n",
              "    <tr>\n",
              "      <th>3145</th>\n",
              "      <td>perfect kid adult everyone</td>\n",
              "      <td>1</td>\n",
              "      <td>50</td>\n",
              "      <td>4</td>\n",
              "      <td>0.550000</td>\n",
              "      <td>0.650000</td>\n",
              "    </tr>\n",
              "    <tr>\n",
              "      <th>3146</th>\n",
              "      <td>listening music searching location checking ti...</td>\n",
              "      <td>1</td>\n",
              "      <td>135</td>\n",
              "      <td>13</td>\n",
              "      <td>0.250000</td>\n",
              "      <td>0.428571</td>\n",
              "    </tr>\n",
              "    <tr>\n",
              "      <th>3147</th>\n",
              "      <td>love thing running entire home tv light thermo...</td>\n",
              "      <td>1</td>\n",
              "      <td>441</td>\n",
              "      <td>42</td>\n",
              "      <td>0.251190</td>\n",
              "      <td>0.547619</td>\n",
              "    </tr>\n",
              "    <tr>\n",
              "      <th>3148</th>\n",
              "      <td>complaint sound quality great mostly use comma...</td>\n",
              "      <td>1</td>\n",
              "      <td>380</td>\n",
              "      <td>33</td>\n",
              "      <td>0.356250</td>\n",
              "      <td>0.586111</td>\n",
              "    </tr>\n",
              "    <tr>\n",
              "      <th>3149</th>\n",
              "      <td>good</td>\n",
              "      <td>1</td>\n",
              "      <td>4</td>\n",
              "      <td>1</td>\n",
              "      <td>0.700000</td>\n",
              "      <td>0.600000</td>\n",
              "    </tr>\n",
              "  </tbody>\n",
              "</table>\n",
              "<p>3150 rows × 6 columns</p>\n",
              "</div>"
            ],
            "text/plain": [
              "                                       verified_reviews  ...  subjectivity\n",
              "0                                             love echo  ...      0.600000\n",
              "1                                                 loved  ...      0.800000\n",
              "2     sometimes playing game answer question correct...  ...      0.656250\n",
              "3     lot fun thing yr old learns dinosaur control l...  ...      0.483333\n",
              "4                                                 music  ...      0.000000\n",
              "...                                                 ...  ...           ...\n",
              "3145                         perfect kid adult everyone  ...      0.650000\n",
              "3146  listening music searching location checking ti...  ...      0.428571\n",
              "3147  love thing running entire home tv light thermo...  ...      0.547619\n",
              "3148  complaint sound quality great mostly use comma...  ...      0.586111\n",
              "3149                                               good  ...      0.600000\n",
              "\n",
              "[3150 rows x 6 columns]"
            ]
          },
          "metadata": {
            "tags": []
          },
          "execution_count": 56
        }
      ]
    },
    {
      "cell_type": "code",
      "metadata": {
        "id": "WK0y25kbXp0x"
      },
      "source": [
        "x=df[\"verified_reviews\"]\n",
        "y=df[\"feedback\"]"
      ],
      "execution_count": 57,
      "outputs": []
    },
    {
      "cell_type": "code",
      "metadata": {
        "colab": {
          "base_uri": "https://localhost:8080/"
        },
        "id": "aTm5-whD0_js",
        "outputId": "65586051-bb59-4dc8-de99-2a9544a1adb8"
      },
      "source": [
        "df[\"feedback\"].value_counts()"
      ],
      "execution_count": 58,
      "outputs": [
        {
          "output_type": "execute_result",
          "data": {
            "text/plain": [
              "1    2893\n",
              "0     257\n",
              "Name: feedback, dtype: int64"
            ]
          },
          "metadata": {
            "tags": []
          },
          "execution_count": 58
        }
      ]
    },
    {
      "cell_type": "code",
      "metadata": {
        "id": "admPzMzr0_mE"
      },
      "source": [
        "def encode(A): #user defined function\n",
        "    index={\"spam\":1 ,\"not spam\":0}\n",
        "    return index[A]"
      ],
      "execution_count": 59,
      "outputs": []
    },
    {
      "cell_type": "code",
      "metadata": {
        "id": "E6_5lfaPssus"
      },
      "source": [
        "#train test split (70-30%  , 75-25% and 80%-20%)\n",
        "from sklearn.model_selection import train_test_split\n",
        "x_train,x_test,y_train,y_test = train_test_split(x,y,test_size=0.2,random_state=1)"
      ],
      "execution_count": 60,
      "outputs": []
    },
    {
      "cell_type": "code",
      "metadata": {
        "id": "4gUiVEYO_P8L"
      },
      "source": [
        "cv=CountVectorizer()"
      ],
      "execution_count": 61,
      "outputs": []
    },
    {
      "cell_type": "code",
      "metadata": {
        "colab": {
          "base_uri": "https://localhost:8080/"
        },
        "id": "o7nxHjHH1_1i",
        "outputId": "ef1fc9d1-f960-49fe-ce5d-5de20e40e06e"
      },
      "source": [
        "x_train_cv=cv.fit_transform(x_train)\n",
        "x_test_cv=cv.transform(x_test)\n",
        "print(x_train_cv)"
      ],
      "execution_count": 62,
      "outputs": [
        {
          "output_type": "stream",
          "text": [
            "  (0, 1159)\t1\n",
            "  (0, 2106)\t2\n",
            "  (0, 1181)\t1\n",
            "  (0, 2514)\t1\n",
            "  (1, 88)\t1\n",
            "  (1, 2281)\t1\n",
            "  (2, 491)\t1\n",
            "  (2, 1737)\t1\n",
            "  (3, 2645)\t1\n",
            "  (3, 2315)\t1\n",
            "  (3, 1999)\t1\n",
            "  (3, 2864)\t1\n",
            "  (3, 2376)\t1\n",
            "  (3, 1226)\t1\n",
            "  (3, 331)\t1\n",
            "  (3, 2970)\t1\n",
            "  (3, 292)\t1\n",
            "  (3, 2835)\t1\n",
            "  (3, 2723)\t1\n",
            "  (4, 911)\t1\n",
            "  (5, 1601)\t1\n",
            "  (5, 1045)\t1\n",
            "  (5, 2591)\t1\n",
            "  (5, 121)\t1\n",
            "  (5, 656)\t1\n",
            "  :\t:\n",
            "  (2512, 940)\t1\n",
            "  (2512, 853)\t2\n",
            "  (2512, 2744)\t1\n",
            "  (2512, 2121)\t1\n",
            "  (2513, 1601)\t1\n",
            "  (2513, 853)\t1\n",
            "  (2514, 1601)\t1\n",
            "  (2514, 121)\t1\n",
            "  (2514, 1844)\t1\n",
            "  (2514, 2054)\t1\n",
            "  (2514, 679)\t1\n",
            "  (2514, 2840)\t1\n",
            "  (2514, 1137)\t2\n",
            "  (2514, 1478)\t2\n",
            "  (2514, 1582)\t1\n",
            "  (2514, 2784)\t1\n",
            "  (2516, 1601)\t1\n",
            "  (2516, 4)\t1\n",
            "  (2517, 1181)\t2\n",
            "  (2517, 2065)\t1\n",
            "  (2517, 684)\t1\n",
            "  (2518, 1545)\t1\n",
            "  (2519, 1601)\t1\n",
            "  (2519, 2556)\t1\n",
            "  (2519, 853)\t1\n"
          ],
          "name": "stdout"
        }
      ]
    },
    {
      "cell_type": "code",
      "metadata": {
        "id": "T7QeKq-s2oso"
      },
      "source": [
        "from sklearn.tree import DecisionTreeClassifier\n"
      ],
      "execution_count": 63,
      "outputs": []
    },
    {
      "cell_type": "code",
      "metadata": {
        "id": "ago98As02ovP"
      },
      "source": [
        "dt=DecisionTreeClassifier()"
      ],
      "execution_count": 64,
      "outputs": []
    },
    {
      "cell_type": "code",
      "metadata": {
        "colab": {
          "base_uri": "https://localhost:8080/"
        },
        "id": "ZlCohZrW2oyH",
        "outputId": "6996f3a0-ef8b-49fe-edc5-b6dbfb1f1583"
      },
      "source": [
        "dt.fit(x_train_cv,y_train)"
      ],
      "execution_count": 65,
      "outputs": [
        {
          "output_type": "execute_result",
          "data": {
            "text/plain": [
              "DecisionTreeClassifier(ccp_alpha=0.0, class_weight=None, criterion='gini',\n",
              "                       max_depth=None, max_features=None, max_leaf_nodes=None,\n",
              "                       min_impurity_decrease=0.0, min_impurity_split=None,\n",
              "                       min_samples_leaf=1, min_samples_split=2,\n",
              "                       min_weight_fraction_leaf=0.0, presort='deprecated',\n",
              "                       random_state=None, splitter='best')"
            ]
          },
          "metadata": {
            "tags": []
          },
          "execution_count": 65
        }
      ]
    },
    {
      "cell_type": "code",
      "metadata": {
        "id": "2ieFQgNs2o2v"
      },
      "source": [
        "y_pred=dt.predict(x_test_cv)"
      ],
      "execution_count": 66,
      "outputs": []
    },
    {
      "cell_type": "code",
      "metadata": {
        "colab": {
          "base_uri": "https://localhost:8080/"
        },
        "id": "lPb0Dvsv21cF",
        "outputId": "fa40e4bd-daf6-45d7-bf35-4e27153d9244"
      },
      "source": [
        "\n",
        "from sklearn.metrics import classification_report\n",
        "print(classification_report(y_test,y_pred))"
      ],
      "execution_count": 67,
      "outputs": [
        {
          "output_type": "stream",
          "text": [
            "              precision    recall  f1-score   support\n",
            "\n",
            "           0       0.52      0.52      0.52        46\n",
            "           1       0.96      0.96      0.96       584\n",
            "\n",
            "    accuracy                           0.93       630\n",
            "   macro avg       0.74      0.74      0.74       630\n",
            "weighted avg       0.93      0.93      0.93       630\n",
            "\n"
          ],
          "name": "stdout"
        }
      ]
    },
    {
      "cell_type": "code",
      "metadata": {
        "colab": {
          "base_uri": "https://localhost:8080/"
        },
        "id": "osiBfh8f21e5",
        "outputId": "ecf0b747-7647-4c95-e160-03a0bec6d0bf"
      },
      "source": [
        "\n",
        "from sklearn.metrics import confusion_matrix\n",
        "print(confusion_matrix(y_test,y_pred))"
      ],
      "execution_count": 68,
      "outputs": [
        {
          "output_type": "stream",
          "text": [
            "[[ 24  22]\n",
            " [ 22 562]]\n"
          ],
          "name": "stdout"
        }
      ]
    },
    {
      "cell_type": "code",
      "metadata": {
        "colab": {
          "base_uri": "https://localhost:8080/"
        },
        "id": "VyLVjHeg21hv",
        "outputId": "9bd61176-905f-4e63-d331-2e225e0896d8"
      },
      "source": [
        "tf=TfidfVectorizer() \n",
        "x_train_tf=tf.fit_transform(x_train)\n",
        "x_test_tf=tf.transform(x_test)\n",
        "print(x_train_tf)"
      ],
      "execution_count": 69,
      "outputs": [
        {
          "output_type": "stream",
          "text": [
            "  (0, 2514)\t0.3223757129411405\n",
            "  (0, 1181)\t0.26823069091133883\n",
            "  (0, 2106)\t0.832015398008537\n",
            "  (0, 1159)\t0.3631481428227512\n",
            "  (1, 2281)\t0.9226143635683965\n",
            "  (1, 88)\t0.38572365255099744\n",
            "  (2, 1737)\t0.46763762622214533\n",
            "  (2, 491)\t0.8839202738603279\n",
            "  (3, 2723)\t0.29074286184740816\n",
            "  (3, 2835)\t0.22730295334178882\n",
            "  (3, 292)\t0.20358424722128782\n",
            "  (3, 2970)\t0.2955693687273989\n",
            "  (3, 331)\t0.39163951231560906\n",
            "  (3, 1226)\t0.41217226273007673\n",
            "  (3, 2376)\t0.17368168423337488\n",
            "  (3, 2864)\t0.26723042889781323\n",
            "  (3, 1999)\t0.2955693687273989\n",
            "  (3, 2315)\t0.23000439345471851\n",
            "  (3, 2645)\t0.41217226273007673\n",
            "  (4, 911)\t1.0\n",
            "  (5, 2375)\t0.48626615325024863\n",
            "  (5, 656)\t0.5429897801945177\n",
            "  (5, 121)\t0.30299469921445993\n",
            "  (5, 2591)\t0.41312066095431393\n",
            "  (5, 1045)\t0.41312066095431393\n",
            "  :\t:\n",
            "  (2512, 853)\t0.362541402599512\n",
            "  (2512, 940)\t0.4226068512130017\n",
            "  (2512, 2840)\t0.33176933533728914\n",
            "  (2512, 342)\t0.27002262254387327\n",
            "  (2513, 853)\t0.755391331757602\n",
            "  (2513, 1601)\t0.655273939589754\n",
            "  (2514, 2784)\t0.3540795819685542\n",
            "  (2514, 1582)\t0.32255741575641994\n",
            "  (2514, 1478)\t0.5394216268169576\n",
            "  (2514, 1137)\t0.427658423256824\n",
            "  (2514, 2840)\t0.2869678892840906\n",
            "  (2514, 679)\t0.23178411889493702\n",
            "  (2514, 2054)\t0.23401159671515356\n",
            "  (2514, 1844)\t0.19906805797851868\n",
            "  (2514, 121)\t0.2185265542909229\n",
            "  (2514, 1601)\t0.13601148270018057\n",
            "  (2516, 4)\t0.9197089380305129\n",
            "  (2516, 1601)\t0.3926009033443329\n",
            "  (2517, 684)\t0.6559581464878468\n",
            "  (2517, 2065)\t0.4215161506337345\n",
            "  (2517, 1181)\t0.6261334081576766\n",
            "  (2518, 1545)\t1.0\n",
            "  (2519, 853)\t0.4522318233476222\n",
            "  (2519, 2556)\t0.8009940978516498\n",
            "  (2519, 1601)\t0.3922943195593161\n"
          ],
          "name": "stdout"
        }
      ]
    },
    {
      "cell_type": "code",
      "metadata": {
        "id": "ZiPS3Ge13RvZ"
      },
      "source": [
        "dt1=DecisionTreeClassifier()"
      ],
      "execution_count": 70,
      "outputs": []
    },
    {
      "cell_type": "code",
      "metadata": {
        "colab": {
          "base_uri": "https://localhost:8080/"
        },
        "id": "EZjYWPwn3RyB",
        "outputId": "1d83cc23-8c6f-4eb2-e5a7-1010ad803abc"
      },
      "source": [
        "dt1.fit(x_train_tf,y_train)"
      ],
      "execution_count": 71,
      "outputs": [
        {
          "output_type": "execute_result",
          "data": {
            "text/plain": [
              "DecisionTreeClassifier(ccp_alpha=0.0, class_weight=None, criterion='gini',\n",
              "                       max_depth=None, max_features=None, max_leaf_nodes=None,\n",
              "                       min_impurity_decrease=0.0, min_impurity_split=None,\n",
              "                       min_samples_leaf=1, min_samples_split=2,\n",
              "                       min_weight_fraction_leaf=0.0, presort='deprecated',\n",
              "                       random_state=None, splitter='best')"
            ]
          },
          "metadata": {
            "tags": []
          },
          "execution_count": 71
        }
      ]
    },
    {
      "cell_type": "code",
      "metadata": {
        "id": "g8GHrKWk3R08"
      },
      "source": [
        "y_pred1=dt.predict(x_test_tf)"
      ],
      "execution_count": 72,
      "outputs": []
    },
    {
      "cell_type": "code",
      "metadata": {
        "colab": {
          "base_uri": "https://localhost:8080/"
        },
        "id": "dAuhvp2J3Ivv",
        "outputId": "6937c509-b850-4eeb-a28b-cdb483ca9219"
      },
      "source": [
        "print(classification_report(y_test,y_pred1))\n",
        "print(\"Confusion MAtrix :\")\n",
        "print(confusion_matrix(y_test,y_pred))"
      ],
      "execution_count": 73,
      "outputs": [
        {
          "output_type": "stream",
          "text": [
            "              precision    recall  f1-score   support\n",
            "\n",
            "           0       0.44      0.09      0.15        46\n",
            "           1       0.93      0.99      0.96       584\n",
            "\n",
            "    accuracy                           0.93       630\n",
            "   macro avg       0.69      0.54      0.55       630\n",
            "weighted avg       0.90      0.93      0.90       630\n",
            "\n",
            "Confusion MAtrix :\n",
            "[[ 24  22]\n",
            " [ 22 562]]\n"
          ],
          "name": "stdout"
        }
      ]
    },
    {
      "cell_type": "code",
      "metadata": {
        "id": "tuSvfXqh3qmR"
      },
      "source": [
        "import tensorflow as tf\n",
        "from tensorflow.keras.models import Sequential\n",
        "from tensorflow.keras.layers import Dense\n",
        "from tensorflow.keras.layers import Dropout"
      ],
      "execution_count": 74,
      "outputs": []
    },
    {
      "cell_type": "code",
      "metadata": {
        "id": "47b2VNds3-2r"
      },
      "source": [
        "model=Sequential()\n",
        "model.add(Dense(10,activation='relu',input_shape=(x_train_cv.shape[1],)))#hidden layer\n",
        "model.add(Dense(6,activation='relu')) #hidden layer2\n",
        "model.add(Dense(1,activation='sigmoid')) #output layer"
      ],
      "execution_count": 75,
      "outputs": []
    },
    {
      "cell_type": "code",
      "metadata": {
        "id": "IxKcqdnb3wld"
      },
      "source": [
        "x_train_cv=x_train_cv.toarray() #in neural network ,strictly you should convert the transform\n",
        "#version into array of X_train_cv and X_test_cv\n",
        "x_test_cv=x_test_cv.toarray()"
      ],
      "execution_count": 76,
      "outputs": []
    },
    {
      "cell_type": "code",
      "metadata": {
        "colab": {
          "base_uri": "https://localhost:8080/"
        },
        "id": "c5R1p4Hs3woV",
        "outputId": "1cdc3747-e285-4ddd-c875-3bebd8c705df"
      },
      "source": [
        "model.summary()"
      ],
      "execution_count": 77,
      "outputs": [
        {
          "output_type": "stream",
          "text": [
            "Model: \"sequential_1\"\n",
            "_________________________________________________________________\n",
            "Layer (type)                 Output Shape              Param #   \n",
            "=================================================================\n",
            "dense_2 (Dense)              (None, 10)                30660     \n",
            "_________________________________________________________________\n",
            "dense_3 (Dense)              (None, 6)                 66        \n",
            "_________________________________________________________________\n",
            "dense_4 (Dense)              (None, 1)                 7         \n",
            "=================================================================\n",
            "Total params: 30,733\n",
            "Trainable params: 30,733\n",
            "Non-trainable params: 0\n",
            "_________________________________________________________________\n"
          ],
          "name": "stdout"
        }
      ]
    },
    {
      "cell_type": "code",
      "metadata": {
        "id": "JaLOmroz3wrI"
      },
      "source": [
        "model.compile(optimizer='adam',loss='binary_crossentropy',metrics=['accuracy'])"
      ],
      "execution_count": 78,
      "outputs": []
    },
    {
      "cell_type": "code",
      "metadata": {
        "colab": {
          "base_uri": "https://localhost:8080/"
        },
        "id": "QpnoysaB4H_f",
        "outputId": "de36f38a-622c-4bbd-f23c-f4111a9d8c70"
      },
      "source": [
        "trained_model=model.fit(x_train_cv,y_train,batch_size=10,epochs=20)"
      ],
      "execution_count": 79,
      "outputs": [
        {
          "output_type": "stream",
          "text": [
            "Epoch 1/20\n",
            "252/252 [==============================] - 1s 2ms/step - loss: 0.5378 - accuracy: 0.8869\n",
            "Epoch 2/20\n",
            "252/252 [==============================] - 1s 2ms/step - loss: 0.2823 - accuracy: 0.9163\n",
            "Epoch 3/20\n",
            "252/252 [==============================] - 1s 2ms/step - loss: 0.1679 - accuracy: 0.9409\n",
            "Epoch 4/20\n",
            "252/252 [==============================] - 1s 2ms/step - loss: 0.1032 - accuracy: 0.9639\n",
            "Epoch 5/20\n",
            "252/252 [==============================] - 0s 2ms/step - loss: 0.0713 - accuracy: 0.9730\n",
            "Epoch 6/20\n",
            "252/252 [==============================] - 0s 2ms/step - loss: 0.0530 - accuracy: 0.9817\n",
            "Epoch 7/20\n",
            "252/252 [==============================] - 0s 2ms/step - loss: 0.0415 - accuracy: 0.9877\n",
            "Epoch 8/20\n",
            "252/252 [==============================] - 1s 2ms/step - loss: 0.0345 - accuracy: 0.9885\n",
            "Epoch 9/20\n",
            "252/252 [==============================] - 1s 2ms/step - loss: 0.0300 - accuracy: 0.9905\n",
            "Epoch 10/20\n",
            "252/252 [==============================] - 0s 2ms/step - loss: 0.0267 - accuracy: 0.9917\n",
            "Epoch 11/20\n",
            "252/252 [==============================] - 0s 2ms/step - loss: 0.0255 - accuracy: 0.9917\n",
            "Epoch 12/20\n",
            "252/252 [==============================] - 0s 2ms/step - loss: 0.0238 - accuracy: 0.9917\n",
            "Epoch 13/20\n",
            "252/252 [==============================] - 0s 2ms/step - loss: 0.0231 - accuracy: 0.9917\n",
            "Epoch 14/20\n",
            "252/252 [==============================] - 1s 2ms/step - loss: 0.0224 - accuracy: 0.9917\n",
            "Epoch 15/20\n",
            "252/252 [==============================] - 1s 2ms/step - loss: 0.0217 - accuracy: 0.9921\n",
            "Epoch 16/20\n",
            "252/252 [==============================] - 0s 2ms/step - loss: 0.0216 - accuracy: 0.9917\n",
            "Epoch 17/20\n",
            "252/252 [==============================] - 0s 2ms/step - loss: 0.0211 - accuracy: 0.9921\n",
            "Epoch 18/20\n",
            "252/252 [==============================] - 1s 2ms/step - loss: 0.0209 - accuracy: 0.9917\n",
            "Epoch 19/20\n",
            "252/252 [==============================] - 1s 2ms/step - loss: 0.0209 - accuracy: 0.9921\n",
            "Epoch 20/20\n",
            "252/252 [==============================] - 0s 2ms/step - loss: 0.0204 - accuracy: 0.9921\n"
          ],
          "name": "stdout"
        }
      ]
    },
    {
      "cell_type": "code",
      "metadata": {
        "colab": {
          "base_uri": "https://localhost:8080/",
          "height": 589
        },
        "id": "WK2AxSHp4ICu",
        "outputId": "b2ba348f-e253-4eea-a336-eca8e3c50d33"
      },
      "source": [
        "plt.title(\"Loss\")\n",
        "plt.plot(trained_model.history['loss'])\n",
        "plt.show()\n",
        "plt.title(\"Accuracy\")\n",
        "plt.plot(trained_model.history['accuracy'])\n",
        "plt.show()"
      ],
      "execution_count": 80,
      "outputs": [
        {
          "output_type": "display_data",
          "data": {
            "image/png": "[encoded data removed]",
            "text/plain": [
              "<Figure size 432x288 with 1 Axes>"
            ]
          },
          "metadata": {
            "tags": []
          }
        },
        {
          "output_type": "display_data",
          "data": {
            "image/png": "[encoded data removed]",
            "text/plain": [
              "<Figure size 432x288 with 1 Axes>"
            ]
          },
          "metadata": {
            "tags": []
          }
        }
      ]
    },
    {
      "cell_type": "code",
      "metadata": {
        "colab": {
          "base_uri": "https://localhost:8080/"
        },
        "id": "URwAhQlT4IG-",
        "outputId": "6e9011fc-5bea-4d18-cca5-13c5da1f5fb2"
      },
      "source": [
        "import numpy as np\n",
        "#Test the model\n",
        "y_pred=model.predict(x_test_cv)\n",
        "print(y_pred)\n",
        "y_pred=np.where(y_pred>=0.5,1,0)\n",
        "print(y_pred)"
      ],
      "execution_count": 81,
      "outputs": [
        {
          "output_type": "stream",
          "text": [
            "[[2.40974814e-01]\n",
            " [9.99999583e-01]\n",
            " [9.99974370e-01]\n",
            " [9.99994397e-01]\n",
            " [9.99998033e-01]\n",
            " [9.99970794e-01]\n",
            " [9.98893380e-01]\n",
            " [9.99838591e-01]\n",
            " [9.99706507e-01]\n",
            " [9.99989569e-01]\n",
            " [9.99998629e-01]\n",
            " [9.99882698e-01]\n",
            " [9.97262716e-01]\n",
            " [9.99994040e-01]\n",
            " [9.96562123e-01]\n",
            " [9.99995470e-01]\n",
            " [1.00000000e+00]\n",
            " [9.98825192e-01]\n",
            " [1.00000000e+00]\n",
            " [9.99993920e-01]\n",
            " [9.99999166e-01]\n",
            " [9.99998689e-01]\n",
            " [9.99922514e-01]\n",
            " [9.99975979e-01]\n",
            " [9.99926686e-01]\n",
            " [9.99882102e-01]\n",
            " [9.99818802e-01]\n",
            " [9.93656874e-01]\n",
            " [1.00000000e+00]\n",
            " [9.98507977e-01]\n",
            " [1.00000000e+00]\n",
            " [9.96904135e-01]\n",
            " [1.00000000e+00]\n",
            " [1.00000000e+00]\n",
            " [9.99706507e-01]\n",
            " [1.00000000e+00]\n",
            " [9.97150779e-01]\n",
            " [9.99900341e-01]\n",
            " [9.99995589e-01]\n",
            " [9.97910142e-01]\n",
            " [9.98617411e-01]\n",
            " [9.99999881e-01]\n",
            " [9.99996781e-01]\n",
            " [9.99873102e-01]\n",
            " [9.96062458e-01]\n",
            " [9.96099114e-01]\n",
            " [9.99992251e-01]\n",
            " [9.99288082e-01]\n",
            " [1.00000000e+00]\n",
            " [6.13529623e-01]\n",
            " [9.93966877e-01]\n",
            " [9.99994874e-01]\n",
            " [1.00000000e+00]\n",
            " [9.99705851e-01]\n",
            " [9.99829829e-01]\n",
            " [9.99958158e-01]\n",
            " [1.00000000e+00]\n",
            " [9.99985516e-01]\n",
            " [9.99683976e-01]\n",
            " [9.99532461e-01]\n",
            " [1.00000000e+00]\n",
            " [9.20045495e-01]\n",
            " [9.99972224e-01]\n",
            " [9.96698737e-01]\n",
            " [1.00000000e+00]\n",
            " [9.99835372e-01]\n",
            " [1.00000000e+00]\n",
            " [9.99939680e-01]\n",
            " [1.00000000e+00]\n",
            " [9.99975145e-01]\n",
            " [9.99706507e-01]\n",
            " [9.99968231e-01]\n",
            " [9.99816537e-01]\n",
            " [9.99930680e-01]\n",
            " [6.50197268e-04]\n",
            " [9.99999642e-01]\n",
            " [9.99971747e-01]\n",
            " [6.75529242e-04]\n",
            " [9.93040442e-01]\n",
            " [9.99726534e-01]\n",
            " [9.98223245e-01]\n",
            " [9.99994755e-01]\n",
            " [9.99706507e-01]\n",
            " [1.00000000e+00]\n",
            " [9.99658406e-01]\n",
            " [9.99893308e-01]\n",
            " [1.00000000e+00]\n",
            " [4.36276615e-01]\n",
            " [9.99987721e-01]\n",
            " [9.99959230e-01]\n",
            " [9.99700189e-01]\n",
            " [1.00000000e+00]\n",
            " [9.99781966e-01]\n",
            " [9.90817904e-01]\n",
            " [9.99697208e-01]\n",
            " [9.99804139e-01]\n",
            " [9.95957553e-01]\n",
            " [1.00000000e+00]\n",
            " [9.99958158e-01]\n",
            " [9.99557734e-01]\n",
            " [9.99983191e-01]\n",
            " [9.10034299e-01]\n",
            " [9.99945045e-01]\n",
            " [9.99992967e-01]\n",
            " [9.98718381e-01]\n",
            " [9.99469161e-01]\n",
            " [9.99889910e-01]\n",
            " [9.99986053e-01]\n",
            " [9.76557851e-01]\n",
            " [9.99999523e-01]\n",
            " [9.96692896e-01]\n",
            " [9.99879599e-01]\n",
            " [9.99677777e-01]\n",
            " [9.99850988e-01]\n",
            " [9.65549767e-01]\n",
            " [9.99985874e-01]\n",
            " [9.99997377e-01]\n",
            " [1.00000000e+00]\n",
            " [6.98169827e-01]\n",
            " [9.99971330e-01]\n",
            " [9.99919355e-01]\n",
            " [9.99843121e-01]\n",
            " [9.99996305e-01]\n",
            " [9.99993801e-01]\n",
            " [9.60094452e-01]\n",
            " [1.00000000e+00]\n",
            " [9.99968112e-01]\n",
            " [9.20756817e-01]\n",
            " [9.99998212e-01]\n",
            " [9.99993920e-01]\n",
            " [1.64452910e-01]\n",
            " [9.07224596e-01]\n",
            " [1.00000000e+00]\n",
            " [9.99925613e-01]\n",
            " [7.92357922e-01]\n",
            " [9.99985576e-01]\n",
            " [1.00000000e+00]\n",
            " [9.99838710e-01]\n",
            " [9.98581409e-01]\n",
            " [9.98296142e-01]\n",
            " [1.00000000e+00]\n",
            " [7.92357922e-01]\n",
            " [9.99073267e-01]\n",
            " [9.50047612e-01]\n",
            " [9.99993503e-01]\n",
            " [9.99996185e-01]\n",
            " [9.99945939e-01]\n",
            " [9.99981642e-01]\n",
            " [1.00000000e+00]\n",
            " [9.95799422e-01]\n",
            " [9.99985695e-01]\n",
            " [9.99706507e-01]\n",
            " [9.96698737e-01]\n",
            " [6.31332397e-04]\n",
            " [9.99764919e-01]\n",
            " [9.81922865e-01]\n",
            " [1.00000000e+00]\n",
            " [9.99247551e-01]\n",
            " [9.99120235e-01]\n",
            " [9.99999762e-01]\n",
            " [9.94860530e-01]\n",
            " [9.99946415e-01]\n",
            " [9.99997973e-01]\n",
            " [1.00000000e+00]\n",
            " [8.74234557e-01]\n",
            " [9.99999642e-01]\n",
            " [9.99927878e-01]\n",
            " [9.97012854e-01]\n",
            " [1.00000000e+00]\n",
            " [9.87793326e-01]\n",
            " [1.00000000e+00]\n",
            " [1.00000000e+00]\n",
            " [9.99994695e-01]\n",
            " [9.99996841e-01]\n",
            " [9.99838591e-01]\n",
            " [9.99999523e-01]\n",
            " [9.99222994e-01]\n",
            " [9.99998808e-01]\n",
            " [1.00000000e+00]\n",
            " [1.00000000e+00]\n",
            " [9.96744037e-01]\n",
            " [1.00000000e+00]\n",
            " [9.99998331e-01]\n",
            " [1.00000000e+00]\n",
            " [9.99258399e-01]\n",
            " [1.00000000e+00]\n",
            " [9.99976993e-01]\n",
            " [9.99830127e-01]\n",
            " [1.00000000e+00]\n",
            " [9.69959259e-01]\n",
            " [1.00000000e+00]\n",
            " [9.99676824e-01]\n",
            " [9.99807000e-01]\n",
            " [9.99827504e-01]\n",
            " [9.99257565e-01]\n",
            " [9.99981165e-01]\n",
            " [9.94931221e-01]\n",
            " [9.99868870e-01]\n",
            " [8.61970186e-01]\n",
            " [9.97164726e-01]\n",
            " [9.99469042e-01]\n",
            " [9.99979913e-01]\n",
            " [1.00000000e+00]\n",
            " [1.00000000e+00]\n",
            " [8.01114559e-01]\n",
            " [9.99999583e-01]\n",
            " [9.99971151e-01]\n",
            " [1.00000000e+00]\n",
            " [9.99998569e-01]\n",
            " [9.99954700e-01]\n",
            " [9.99997258e-01]\n",
            " [1.00000000e+00]\n",
            " [1.96641684e-03]\n",
            " [9.99588728e-01]\n",
            " [2.26757220e-05]\n",
            " [9.99996305e-01]\n",
            " [9.99706507e-01]\n",
            " [1.00000000e+00]\n",
            " [1.00000000e+00]\n",
            " [9.99999881e-01]\n",
            " [9.99784887e-01]\n",
            " [9.99593496e-01]\n",
            " [9.99623656e-01]\n",
            " [9.99999762e-01]\n",
            " [1.00000000e+00]\n",
            " [9.99995947e-01]\n",
            " [1.00000000e+00]\n",
            " [9.99998689e-01]\n",
            " [1.00000000e+00]\n",
            " [9.99999881e-01]\n",
            " [9.99938011e-01]\n",
            " [6.73644006e-01]\n",
            " [1.00833565e-01]\n",
            " [9.99997020e-01]\n",
            " [9.99677777e-01]\n",
            " [9.98959661e-01]\n",
            " [9.99998689e-01]\n",
            " [7.92357922e-01]\n",
            " [9.99999881e-01]\n",
            " [9.99999046e-01]\n",
            " [9.99359965e-01]\n",
            " [1.51696980e-01]\n",
            " [1.00000000e+00]\n",
            " [9.99898911e-01]\n",
            " [9.99947011e-01]\n",
            " [9.99964774e-01]\n",
            " [9.76947904e-01]\n",
            " [7.92357922e-01]\n",
            " [9.99997497e-01]\n",
            " [9.99948859e-01]\n",
            " [9.99998212e-01]\n",
            " [9.99992490e-01]\n",
            " [9.99788642e-01]\n",
            " [9.99828160e-01]\n",
            " [1.00000000e+00]\n",
            " [9.99804497e-01]\n",
            " [9.96713996e-01]\n",
            " [9.99888062e-01]\n",
            " [9.99816537e-01]\n",
            " [9.99988437e-01]\n",
            " [9.99978662e-01]\n",
            " [9.99999404e-01]\n",
            " [9.99998689e-01]\n",
            " [9.99999225e-01]\n",
            " [9.99997854e-01]\n",
            " [1.00000000e+00]\n",
            " [1.00000000e+00]\n",
            " [9.99748707e-01]\n",
            " [1.00000000e+00]\n",
            " [9.98221040e-01]\n",
            " [9.99929786e-01]\n",
            " [9.98798132e-01]\n",
            " [9.99990404e-01]\n",
            " [1.00000000e+00]\n",
            " [1.00000000e+00]\n",
            " [9.99971628e-01]\n",
            " [9.99999762e-01]\n",
            " [1.20543427e-06]\n",
            " [9.99963045e-01]\n",
            " [9.97989297e-01]\n",
            " [1.00000000e+00]\n",
            " [9.98243690e-01]\n",
            " [9.99995232e-01]\n",
            " [1.00000000e+00]\n",
            " [9.99996305e-01]\n",
            " [1.00000000e+00]\n",
            " [3.13206166e-01]\n",
            " [1.00000000e+00]\n",
            " [1.00000000e+00]\n",
            " [1.00833565e-01]\n",
            " [1.00000000e+00]\n",
            " [9.99998093e-01]\n",
            " [9.99961615e-01]\n",
            " [9.99999583e-01]\n",
            " [6.72620535e-03]\n",
            " [4.23404574e-03]\n",
            " [9.99972820e-01]\n",
            " [9.91291523e-01]\n",
            " [1.00000000e+00]\n",
            " [3.38779747e-01]\n",
            " [3.46290227e-12]\n",
            " [9.99997020e-01]\n",
            " [9.99175727e-01]\n",
            " [9.99999583e-01]\n",
            " [9.99937356e-01]\n",
            " [9.99999881e-01]\n",
            " [9.99991655e-01]\n",
            " [9.99990344e-01]\n",
            " [9.99982834e-01]\n",
            " [9.99588728e-01]\n",
            " [1.00000000e+00]\n",
            " [9.99934852e-01]\n",
            " [1.00000000e+00]\n",
            " [5.65417176e-05]\n",
            " [9.99897480e-01]\n",
            " [9.99831796e-01]\n",
            " [1.00000000e+00]\n",
            " [1.00000000e+00]\n",
            " [9.99995232e-01]\n",
            " [9.99816537e-01]\n",
            " [9.99599755e-01]\n",
            " [9.99436498e-01]\n",
            " [9.99835372e-01]\n",
            " [8.85603905e-01]\n",
            " [1.00000000e+00]\n",
            " [1.00000000e+00]\n",
            " [9.99762952e-01]\n",
            " [9.94717240e-01]\n",
            " [9.99882698e-01]\n",
            " [2.60099769e-03]\n",
            " [9.99996066e-01]\n",
            " [9.94776726e-01]\n",
            " [9.97434258e-01]\n",
            " [9.99997318e-01]\n",
            " [9.99995232e-01]\n",
            " [1.00000000e+00]\n",
            " [8.85603905e-01]\n",
            " [9.99611735e-01]\n",
            " [9.99909282e-01]\n",
            " [9.99658406e-01]\n",
            " [9.96709645e-01]\n",
            " [7.92357922e-01]\n",
            " [9.99981999e-01]\n",
            " [9.97262716e-01]\n",
            " [9.99999762e-01]\n",
            " [9.99817610e-01]\n",
            " [9.99722302e-01]\n",
            " [1.00000000e+00]\n",
            " [1.00000000e+00]\n",
            " [9.99593496e-01]\n",
            " [9.99942064e-01]\n",
            " [9.99765992e-01]\n",
            " [9.95846152e-01]\n",
            " [9.98824775e-01]\n",
            " [9.99868274e-01]\n",
            " [9.99995112e-01]\n",
            " [9.99994636e-01]\n",
            " [9.99786019e-01]\n",
            " [9.99975920e-01]\n",
            " [1.00000000e+00]\n",
            " [9.99997377e-01]\n",
            " [9.98352408e-01]\n",
            " [1.00000000e+00]\n",
            " [9.99999881e-01]\n",
            " [7.32129812e-03]\n",
            " [2.29188830e-01]\n",
            " [7.92357922e-01]\n",
            " [9.99897540e-01]\n",
            " [1.00000000e+00]\n",
            " [9.99588728e-01]\n",
            " [9.98631597e-01]\n",
            " [7.95088053e-01]\n",
            " [9.89449441e-01]\n",
            " [9.99706507e-01]\n",
            " [1.00000000e+00]\n",
            " [9.99999821e-01]\n",
            " [9.99997795e-01]\n",
            " [9.59834456e-01]\n",
            " [9.54837561e-01]\n",
            " [9.99995112e-01]\n",
            " [9.99979854e-01]\n",
            " [9.99976099e-01]\n",
            " [9.99999762e-01]\n",
            " [1.00000000e+00]\n",
            " [9.74686503e-01]\n",
            " [9.99988735e-01]\n",
            " [9.99900937e-01]\n",
            " [9.99998689e-01]\n",
            " [9.99765575e-01]\n",
            " [9.99275804e-01]\n",
            " [9.99768138e-01]\n",
            " [1.00000000e+00]\n",
            " [9.99972880e-01]\n",
            " [9.99998629e-01]\n",
            " [9.99867857e-01]\n",
            " [9.99978304e-01]\n",
            " [1.00000000e+00]\n",
            " [9.99998212e-01]\n",
            " [9.94208336e-01]\n",
            " [9.99942660e-01]\n",
            " [9.97001052e-01]\n",
            " [1.00000000e+00]\n",
            " [9.99907553e-01]\n",
            " [1.00000000e+00]\n",
            " [9.99993086e-01]\n",
            " [1.00000000e+00]\n",
            " [7.92357922e-01]\n",
            " [9.99969065e-01]\n",
            " [9.65185881e-01]\n",
            " [1.39669776e-02]\n",
            " [9.99999642e-01]\n",
            " [1.00000000e+00]\n",
            " [9.97768402e-01]\n",
            " [9.99997318e-01]\n",
            " [8.59306455e-01]\n",
            " [9.98320103e-01]\n",
            " [9.99995351e-01]\n",
            " [1.00000000e+00]\n",
            " [9.99954700e-01]\n",
            " [9.99872744e-01]\n",
            " [9.99557734e-01]\n",
            " [1.00000000e+00]\n",
            " [9.99130249e-01]\n",
            " [4.36276495e-02]\n",
            " [9.99963582e-01]\n",
            " [1.00000000e+00]\n",
            " [1.00000000e+00]\n",
            " [9.99991775e-01]\n",
            " [9.99993026e-01]\n",
            " [9.75856125e-01]\n",
            " [9.99999881e-01]\n",
            " [4.39508885e-01]\n",
            " [1.00000000e+00]\n",
            " [9.99195695e-01]\n",
            " [1.00000000e+00]\n",
            " [9.99839544e-01]\n",
            " [1.00000000e+00]\n",
            " [9.99914467e-01]\n",
            " [9.99996364e-01]\n",
            " [9.99592423e-01]\n",
            " [1.00000000e+00]\n",
            " [9.99805927e-01]\n",
            " [9.88038182e-01]\n",
            " [9.96992648e-01]\n",
            " [9.99890685e-01]\n",
            " [9.43799734e-01]\n",
            " [9.99998331e-01]\n",
            " [9.96692896e-01]\n",
            " [6.74277700e-08]\n",
            " [9.99745429e-01]\n",
            " [9.99820590e-01]\n",
            " [9.99805927e-01]\n",
            " [1.00000000e+00]\n",
            " [1.00000000e+00]\n",
            " [9.99706507e-01]\n",
            " [9.99996960e-01]\n",
            " [9.99906003e-01]\n",
            " [9.99998868e-01]\n",
            " [9.99995828e-01]\n",
            " [9.99991059e-01]\n",
            " [3.17702889e-02]\n",
            " [9.99195695e-01]\n",
            " [9.99999523e-01]\n",
            " [9.99588728e-01]\n",
            " [9.99972284e-01]\n",
            " [9.99820590e-01]\n",
            " [9.98582363e-01]\n",
            " [1.00000000e+00]\n",
            " [9.99972880e-01]\n",
            " [2.10344791e-04]\n",
            " [4.86284494e-04]\n",
            " [9.99955177e-01]\n",
            " [9.99834657e-01]\n",
            " [9.99433160e-01]\n",
            " [1.00000000e+00]\n",
            " [9.99896526e-01]\n",
            " [1.00000000e+00]\n",
            " [9.99998927e-01]\n",
            " [9.99971390e-01]\n",
            " [9.99999166e-01]\n",
            " [9.99842703e-01]\n",
            " [9.99530494e-01]\n",
            " [9.99012709e-01]\n",
            " [9.99999642e-01]\n",
            " [9.99677777e-01]\n",
            " [9.99795079e-01]\n",
            " [9.99999583e-01]\n",
            " [9.99817610e-01]\n",
            " [9.99747396e-01]\n",
            " [1.00000000e+00]\n",
            " [9.99047399e-01]\n",
            " [9.99988794e-01]\n",
            " [9.99694765e-01]\n",
            " [9.98860240e-01]\n",
            " [9.99998212e-01]\n",
            " [9.99970913e-01]\n",
            " [2.59495407e-01]\n",
            " [1.00000000e+00]\n",
            " [9.99792159e-01]\n",
            " [9.99691486e-01]\n",
            " [9.99998808e-01]\n",
            " [9.99998868e-01]\n",
            " [1.00000000e+00]\n",
            " [9.99999404e-01]\n",
            " [9.99976099e-01]\n",
            " [9.99817610e-01]\n",
            " [1.00000000e+00]\n",
            " [9.99817610e-01]\n",
            " [1.00000000e+00]\n",
            " [9.99588728e-01]\n",
            " [1.00000000e+00]\n",
            " [2.12944150e-02]\n",
            " [9.99706507e-01]\n",
            " [9.99999762e-01]\n",
            " [9.98502493e-01]\n",
            " [9.99979734e-01]\n",
            " [9.99706507e-01]\n",
            " [9.98307824e-01]\n",
            " [1.00000000e+00]\n",
            " [9.99983072e-01]\n",
            " [9.99935806e-01]\n",
            " [9.99706507e-01]\n",
            " [9.98870254e-01]\n",
            " [9.96562123e-01]\n",
            " [9.99967098e-01]\n",
            " [1.00000000e+00]\n",
            " [9.99942064e-01]\n",
            " [9.99882221e-01]\n",
            " [9.99950707e-01]\n",
            " [1.00000000e+00]\n",
            " [9.99231637e-01]\n",
            " [9.99999404e-01]\n",
            " [9.99497473e-01]\n",
            " [9.34846163e-01]\n",
            " [1.00000000e+00]\n",
            " [9.99999642e-01]\n",
            " [9.97510791e-01]\n",
            " [9.99989629e-01]\n",
            " [9.99999285e-01]\n",
            " [9.99507129e-01]\n",
            " [1.00000000e+00]\n",
            " [9.99778748e-01]\n",
            " [2.56843865e-01]\n",
            " [9.99999285e-01]\n",
            " [9.99999642e-01]\n",
            " [6.48682654e-01]\n",
            " [9.99999762e-01]\n",
            " [9.99112666e-01]\n",
            " [9.99733090e-01]\n",
            " [1.00000000e+00]\n",
            " [9.99996781e-01]\n",
            " [1.00000000e+00]\n",
            " [1.00000000e+00]\n",
            " [9.99998450e-01]\n",
            " [9.99999464e-01]\n",
            " [1.00000000e+00]\n",
            " [9.99994218e-01]\n",
            " [7.92357922e-01]\n",
            " [9.99940515e-01]\n",
            " [1.00000000e+00]\n",
            " [1.00000000e+00]\n",
            " [9.99989033e-01]\n",
            " [9.99955893e-01]\n",
            " [1.00000000e+00]\n",
            " [9.99870956e-01]\n",
            " [9.99999702e-01]\n",
            " [1.00000000e+00]\n",
            " [9.99982357e-01]\n",
            " [9.98581409e-01]\n",
            " [9.99986768e-01]\n",
            " [9.99841273e-01]\n",
            " [9.99257565e-01]\n",
            " [9.94402289e-01]\n",
            " [9.97219920e-01]\n",
            " [7.92357862e-01]\n",
            " [1.00000000e+00]\n",
            " [9.99498248e-01]\n",
            " [9.99988556e-01]\n",
            " [7.00409949e-01]\n",
            " [9.99438047e-01]\n",
            " [9.99999821e-01]\n",
            " [9.99945164e-01]\n",
            " [9.99876022e-01]\n",
            " [9.99706507e-01]\n",
            " [9.99998212e-01]\n",
            " [2.75023849e-05]\n",
            " [9.99992728e-01]\n",
            " [1.00000000e+00]\n",
            " [9.06579614e-01]\n",
            " [9.84508872e-01]\n",
            " [1.00000000e+00]\n",
            " [9.99988019e-01]\n",
            " [9.99831557e-01]\n",
            " [9.99997854e-01]\n",
            " [9.99975264e-01]\n",
            " [9.97957945e-01]\n",
            " [9.99999583e-01]\n",
            " [9.99931931e-01]\n",
            " [9.99949753e-01]\n",
            " [9.81922865e-01]\n",
            " [7.92357922e-01]\n",
            " [9.99794304e-01]\n",
            " [9.99938548e-01]\n",
            " [9.99999166e-01]\n",
            " [1.00000000e+00]\n",
            " [1.00000000e+00]\n",
            " [9.99588728e-01]\n",
            " [9.99979258e-01]\n",
            " [9.99931812e-01]\n",
            " [9.99991894e-01]\n",
            " [9.48902011e-01]\n",
            " [9.97989297e-01]\n",
            " [9.98228788e-01]\n",
            " [9.99894738e-01]\n",
            " [9.99195695e-01]\n",
            " [1.00000000e+00]\n",
            " [5.93899846e-01]\n",
            " [1.00000000e+00]\n",
            " [1.00000000e+00]\n",
            " [9.99706507e-01]\n",
            " [9.99977887e-01]\n",
            " [9.99979258e-01]\n",
            " [9.98052716e-01]\n",
            " [7.92357922e-01]\n",
            " [9.99963105e-01]\n",
            " [9.99999166e-01]\n",
            " [9.99995589e-01]\n",
            " [9.99999821e-01]\n",
            " [9.99999762e-01]\n",
            " [9.98419166e-01]]\n",
            "[[0]\n",
            " [1]\n",
            " [1]\n",
            " [1]\n",
            " [1]\n",
            " [1]\n",
            " [1]\n",
            " [1]\n",
            " [1]\n",
            " [1]\n",
            " [1]\n",
            " [1]\n",
            " [1]\n",
            " [1]\n",
            " [1]\n",
            " [1]\n",
            " [1]\n",
            " [1]\n",
            " [1]\n",
            " [1]\n",
            " [1]\n",
            " [1]\n",
            " [1]\n",
            " [1]\n",
            " [1]\n",
            " [1]\n",
            " [1]\n",
            " [1]\n",
            " [1]\n",
            " [1]\n",
            " [1]\n",
            " [1]\n",
            " [1]\n",
            " [1]\n",
            " [1]\n",
            " [1]\n",
            " [1]\n",
            " [1]\n",
            " [1]\n",
            " [1]\n",
            " [1]\n",
            " [1]\n",
            " [1]\n",
            " [1]\n",
            " [1]\n",
            " [1]\n",
            " [1]\n",
            " [1]\n",
            " [1]\n",
            " [1]\n",
            " [1]\n",
            " [1]\n",
            " [1]\n",
            " [1]\n",
            " [1]\n",
            " [1]\n",
            " [1]\n",
            " [1]\n",
            " [1]\n",
            " [1]\n",
            " [1]\n",
            " [1]\n",
            " [1]\n",
            " [1]\n",
            " [1]\n",
            " [1]\n",
            " [1]\n",
            " [1]\n",
            " [1]\n",
            " [1]\n",
            " [1]\n",
            " [1]\n",
            " [1]\n",
            " [1]\n",
            " [0]\n",
            " [1]\n",
            " [1]\n",
            " [0]\n",
            " [1]\n",
            " [1]\n",
            " [1]\n",
            " [1]\n",
            " [1]\n",
            " [1]\n",
            " [1]\n",
            " [1]\n",
            " [1]\n",
            " [0]\n",
            " [1]\n",
            " [1]\n",
            " [1]\n",
            " [1]\n",
            " [1]\n",
            " [1]\n",
            " [1]\n",
            " [1]\n",
            " [1]\n",
            " [1]\n",
            " [1]\n",
            " [1]\n",
            " [1]\n",
            " [1]\n",
            " [1]\n",
            " [1]\n",
            " [1]\n",
            " [1]\n",
            " [1]\n",
            " [1]\n",
            " [1]\n",
            " [1]\n",
            " [1]\n",
            " [1]\n",
            " [1]\n",
            " [1]\n",
            " [1]\n",
            " [1]\n",
            " [1]\n",
            " [1]\n",
            " [1]\n",
            " [1]\n",
            " [1]\n",
            " [1]\n",
            " [1]\n",
            " [1]\n",
            " [1]\n",
            " [1]\n",
            " [1]\n",
            " [1]\n",
            " [1]\n",
            " [1]\n",
            " [0]\n",
            " [1]\n",
            " [1]\n",
            " [1]\n",
            " [1]\n",
            " [1]\n",
            " [1]\n",
            " [1]\n",
            " [1]\n",
            " [1]\n",
            " [1]\n",
            " [1]\n",
            " [1]\n",
            " [1]\n",
            " [1]\n",
            " [1]\n",
            " [1]\n",
            " [1]\n",
            " [1]\n",
            " [1]\n",
            " [1]\n",
            " [1]\n",
            " [1]\n",
            " [0]\n",
            " [1]\n",
            " [1]\n",
            " [1]\n",
            " [1]\n",
            " [1]\n",
            " [1]\n",
            " [1]\n",
            " [1]\n",
            " [1]\n",
            " [1]\n",
            " [1]\n",
            " [1]\n",
            " [1]\n",
            " [1]\n",
            " [1]\n",
            " [1]\n",
            " [1]\n",
            " [1]\n",
            " [1]\n",
            " [1]\n",
            " [1]\n",
            " [1]\n",
            " [1]\n",
            " [1]\n",
            " [1]\n",
            " [1]\n",
            " [1]\n",
            " [1]\n",
            " [1]\n",
            " [1]\n",
            " [1]\n",
            " [1]\n",
            " [1]\n",
            " [1]\n",
            " [1]\n",
            " [1]\n",
            " [1]\n",
            " [1]\n",
            " [1]\n",
            " [1]\n",
            " [1]\n",
            " [1]\n",
            " [1]\n",
            " [1]\n",
            " [1]\n",
            " [1]\n",
            " [1]\n",
            " [1]\n",
            " [1]\n",
            " [1]\n",
            " [1]\n",
            " [1]\n",
            " [1]\n",
            " [1]\n",
            " [1]\n",
            " [1]\n",
            " [1]\n",
            " [1]\n",
            " [0]\n",
            " [1]\n",
            " [0]\n",
            " [1]\n",
            " [1]\n",
            " [1]\n",
            " [1]\n",
            " [1]\n",
            " [1]\n",
            " [1]\n",
            " [1]\n",
            " [1]\n",
            " [1]\n",
            " [1]\n",
            " [1]\n",
            " [1]\n",
            " [1]\n",
            " [1]\n",
            " [1]\n",
            " [1]\n",
            " [0]\n",
            " [1]\n",
            " [1]\n",
            " [1]\n",
            " [1]\n",
            " [1]\n",
            " [1]\n",
            " [1]\n",
            " [1]\n",
            " [0]\n",
            " [1]\n",
            " [1]\n",
            " [1]\n",
            " [1]\n",
            " [1]\n",
            " [1]\n",
            " [1]\n",
            " [1]\n",
            " [1]\n",
            " [1]\n",
            " [1]\n",
            " [1]\n",
            " [1]\n",
            " [1]\n",
            " [1]\n",
            " [1]\n",
            " [1]\n",
            " [1]\n",
            " [1]\n",
            " [1]\n",
            " [1]\n",
            " [1]\n",
            " [1]\n",
            " [1]\n",
            " [1]\n",
            " [1]\n",
            " [1]\n",
            " [1]\n",
            " [1]\n",
            " [1]\n",
            " [1]\n",
            " [1]\n",
            " [1]\n",
            " [1]\n",
            " [1]\n",
            " [0]\n",
            " [1]\n",
            " [1]\n",
            " [1]\n",
            " [1]\n",
            " [1]\n",
            " [1]\n",
            " [1]\n",
            " [1]\n",
            " [0]\n",
            " [1]\n",
            " [1]\n",
            " [0]\n",
            " [1]\n",
            " [1]\n",
            " [1]\n",
            " [1]\n",
            " [0]\n",
            " [0]\n",
            " [1]\n",
            " [1]\n",
            " [1]\n",
            " [0]\n",
            " [0]\n",
            " [1]\n",
            " [1]\n",
            " [1]\n",
            " [1]\n",
            " [1]\n",
            " [1]\n",
            " [1]\n",
            " [1]\n",
            " [1]\n",
            " [1]\n",
            " [1]\n",
            " [1]\n",
            " [0]\n",
            " [1]\n",
            " [1]\n",
            " [1]\n",
            " [1]\n",
            " [1]\n",
            " [1]\n",
            " [1]\n",
            " [1]\n",
            " [1]\n",
            " [1]\n",
            " [1]\n",
            " [1]\n",
            " [1]\n",
            " [1]\n",
            " [1]\n",
            " [0]\n",
            " [1]\n",
            " [1]\n",
            " [1]\n",
            " [1]\n",
            " [1]\n",
            " [1]\n",
            " [1]\n",
            " [1]\n",
            " [1]\n",
            " [1]\n",
            " [1]\n",
            " [1]\n",
            " [1]\n",
            " [1]\n",
            " [1]\n",
            " [1]\n",
            " [1]\n",
            " [1]\n",
            " [1]\n",
            " [1]\n",
            " [1]\n",
            " [1]\n",
            " [1]\n",
            " [1]\n",
            " [1]\n",
            " [1]\n",
            " [1]\n",
            " [1]\n",
            " [1]\n",
            " [1]\n",
            " [1]\n",
            " [1]\n",
            " [1]\n",
            " [1]\n",
            " [0]\n",
            " [0]\n",
            " [1]\n",
            " [1]\n",
            " [1]\n",
            " [1]\n",
            " [1]\n",
            " [1]\n",
            " [1]\n",
            " [1]\n",
            " [1]\n",
            " [1]\n",
            " [1]\n",
            " [1]\n",
            " [1]\n",
            " [1]\n",
            " [1]\n",
            " [1]\n",
            " [1]\n",
            " [1]\n",
            " [1]\n",
            " [1]\n",
            " [1]\n",
            " [1]\n",
            " [1]\n",
            " [1]\n",
            " [1]\n",
            " [1]\n",
            " [1]\n",
            " [1]\n",
            " [1]\n",
            " [1]\n",
            " [1]\n",
            " [1]\n",
            " [1]\n",
            " [1]\n",
            " [1]\n",
            " [1]\n",
            " [1]\n",
            " [1]\n",
            " [1]\n",
            " [1]\n",
            " [1]\n",
            " [1]\n",
            " [1]\n",
            " [0]\n",
            " [1]\n",
            " [1]\n",
            " [1]\n",
            " [1]\n",
            " [1]\n",
            " [1]\n",
            " [1]\n",
            " [1]\n",
            " [1]\n",
            " [1]\n",
            " [1]\n",
            " [1]\n",
            " [1]\n",
            " [0]\n",
            " [1]\n",
            " [1]\n",
            " [1]\n",
            " [1]\n",
            " [1]\n",
            " [1]\n",
            " [1]\n",
            " [0]\n",
            " [1]\n",
            " [1]\n",
            " [1]\n",
            " [1]\n",
            " [1]\n",
            " [1]\n",
            " [1]\n",
            " [1]\n",
            " [1]\n",
            " [1]\n",
            " [1]\n",
            " [1]\n",
            " [1]\n",
            " [1]\n",
            " [1]\n",
            " [1]\n",
            " [0]\n",
            " [1]\n",
            " [1]\n",
            " [1]\n",
            " [1]\n",
            " [1]\n",
            " [1]\n",
            " [1]\n",
            " [1]\n",
            " [1]\n",
            " [1]\n",
            " [1]\n",
            " [0]\n",
            " [1]\n",
            " [1]\n",
            " [1]\n",
            " [1]\n",
            " [1]\n",
            " [1]\n",
            " [1]\n",
            " [1]\n",
            " [0]\n",
            " [0]\n",
            " [1]\n",
            " [1]\n",
            " [1]\n",
            " [1]\n",
            " [1]\n",
            " [1]\n",
            " [1]\n",
            " [1]\n",
            " [1]\n",
            " [1]\n",
            " [1]\n",
            " [1]\n",
            " [1]\n",
            " [1]\n",
            " [1]\n",
            " [1]\n",
            " [1]\n",
            " [1]\n",
            " [1]\n",
            " [1]\n",
            " [1]\n",
            " [1]\n",
            " [1]\n",
            " [1]\n",
            " [1]\n",
            " [0]\n",
            " [1]\n",
            " [1]\n",
            " [1]\n",
            " [1]\n",
            " [1]\n",
            " [1]\n",
            " [1]\n",
            " [1]\n",
            " [1]\n",
            " [1]\n",
            " [1]\n",
            " [1]\n",
            " [1]\n",
            " [1]\n",
            " [0]\n",
            " [1]\n",
            " [1]\n",
            " [1]\n",
            " [1]\n",
            " [1]\n",
            " [1]\n",
            " [1]\n",
            " [1]\n",
            " [1]\n",
            " [1]\n",
            " [1]\n",
            " [1]\n",
            " [1]\n",
            " [1]\n",
            " [1]\n",
            " [1]\n",
            " [1]\n",
            " [1]\n",
            " [1]\n",
            " [1]\n",
            " [1]\n",
            " [1]\n",
            " [1]\n",
            " [1]\n",
            " [1]\n",
            " [1]\n",
            " [1]\n",
            " [1]\n",
            " [1]\n",
            " [1]\n",
            " [0]\n",
            " [1]\n",
            " [1]\n",
            " [1]\n",
            " [1]\n",
            " [1]\n",
            " [1]\n",
            " [1]\n",
            " [1]\n",
            " [1]\n",
            " [1]\n",
            " [1]\n",
            " [1]\n",
            " [1]\n",
            " [1]\n",
            " [1]\n",
            " [1]\n",
            " [1]\n",
            " [1]\n",
            " [1]\n",
            " [1]\n",
            " [1]\n",
            " [1]\n",
            " [1]\n",
            " [1]\n",
            " [1]\n",
            " [1]\n",
            " [1]\n",
            " [1]\n",
            " [1]\n",
            " [1]\n",
            " [1]\n",
            " [1]\n",
            " [1]\n",
            " [1]\n",
            " [1]\n",
            " [1]\n",
            " [1]\n",
            " [1]\n",
            " [1]\n",
            " [1]\n",
            " [1]\n",
            " [1]\n",
            " [0]\n",
            " [1]\n",
            " [1]\n",
            " [1]\n",
            " [1]\n",
            " [1]\n",
            " [1]\n",
            " [1]\n",
            " [1]\n",
            " [1]\n",
            " [1]\n",
            " [1]\n",
            " [1]\n",
            " [1]\n",
            " [1]\n",
            " [1]\n",
            " [1]\n",
            " [1]\n",
            " [1]\n",
            " [1]\n",
            " [1]\n",
            " [1]\n",
            " [1]\n",
            " [1]\n",
            " [1]\n",
            " [1]\n",
            " [1]\n",
            " [1]\n",
            " [1]\n",
            " [1]\n",
            " [1]\n",
            " [1]\n",
            " [1]\n",
            " [1]\n",
            " [1]\n",
            " [1]\n",
            " [1]\n",
            " [1]\n",
            " [1]\n",
            " [1]\n",
            " [1]\n",
            " [1]\n",
            " [1]\n",
            " [1]\n",
            " [1]]\n"
          ],
          "name": "stdout"
        }
      ]
    },
    {
      "cell_type": "code",
      "metadata": {
        "colab": {
          "base_uri": "https://localhost:8080/"
        },
        "id": "AYUnH6-W4IJf",
        "outputId": "99d193e4-f6ee-42c9-eedc-17a39101cf17"
      },
      "source": [
        "print(classification_report(y_test,y_pred))\n",
        "print(\"Confusion MAtrix :\")\n",
        "print(confusion_matrix(y_test,y_pred))"
      ],
      "execution_count": 82,
      "outputs": [
        {
          "output_type": "stream",
          "text": [
            "              precision    recall  f1-score   support\n",
            "\n",
            "           0       0.69      0.48      0.56        46\n",
            "           1       0.96      0.98      0.97       584\n",
            "\n",
            "    accuracy                           0.95       630\n",
            "   macro avg       0.82      0.73      0.77       630\n",
            "weighted avg       0.94      0.95      0.94       630\n",
            "\n",
            "Confusion MAtrix :\n",
            "[[ 22  24]\n",
            " [ 10 574]]\n"
          ],
          "name": "stdout"
        }
      ]
    }
  ]
}